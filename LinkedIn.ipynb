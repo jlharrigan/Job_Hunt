{
 "cells": [
  {
   "cell_type": "code",
   "execution_count": 38,
   "id": "03948e94",
   "metadata": {},
   "outputs": [],
   "source": [
    "from selenium.webdriver.support.ui import WebDriverWait\n",
    "from selenium.webdriver.support import expected_conditions as EC\n",
    "from selenium.webdriver.common.by import By\n",
    "from selenium import webdriver\n",
    "from selenium.webdriver.common.action_chains import ActionChains\n",
    "import pandas as pd\n",
    "import numpy as np\n",
    "import os\n",
    "import matplotlib.pyplot as plt\n",
    "import datetime\n",
    "import time\n",
    "import pickle\n",
    "from copy import deepcopy\n",
    "import time\n",
    "import math"
   ]
  },
  {
   "cell_type": "code",
   "execution_count": null,
   "id": "05fa792e",
   "metadata": {},
   "outputs": [],
   "source": [
    "# instructions:\n",
    "\n",
    "# first - create driver\n",
    "# second - use startup\n",
    "# third - run the code in the 8th cell\n",
    "\n",
    "# things to make sure it works - make sure the window for the driver is full screen, and if you have a slow internet connection\n",
    "# increase the \"time.sleep()\" time inside the functions or else the functions will throw an error"
   ]
  },
  {
   "cell_type": "code",
   "execution_count": 190,
   "id": "719abcdf",
   "metadata": {},
   "outputs": [],
   "source": [
    "driver = webdriver.Chrome()"
   ]
  },
  {
   "cell_type": "code",
   "execution_count": 191,
   "id": "29c720f6",
   "metadata": {},
   "outputs": [],
   "source": [
    "def start_up(driver):\n",
    "    driver.get('https://www.linkedin.com/feed/')\n",
    "    driver.find_element(By.CLASS_NAME, 'main__sign-in-link').click()\n",
    "    driver.find_element(By.ID, 'username').click()\n",
    "    driver.find_element(By.ID, 'username').send_keys('jack.l.harrigan@gmail.com')\n",
    "    driver.find_element(By.ID, 'password').click()\n",
    "    driver.find_element(By.ID, 'password').send_keys('Valelaine24!')\n",
    "    driver.find_element(By.TAG_NAME, 'button').click()\n",
    "    driver.get('https://www.linkedin.com/jobs/search/?currentJobId=3555453335&f_AL=true&f_E=1%2C2&f_JT=F%2CI&f_T=340&keywords=data%20analyst&sortBy=R')"
   ]
  },
  {
   "cell_type": "code",
   "execution_count": 192,
   "id": "22c5cdee",
   "metadata": {},
   "outputs": [],
   "source": [
    "start_up(driver)"
   ]
  },
  {
   "cell_type": "code",
   "execution_count": 146,
   "id": "39348a63",
   "metadata": {},
   "outputs": [],
   "source": [
    "def easy_apply():\n",
    "    driver.find_element(By.CLASS_NAME, 'jobs-apply-button--top-card').click()\n",
    "    time.sleep(0.5)\n",
    "    try:\n",
    "        for i in np.arange(0,10):\n",
    "            if len(driver.find_elements(By.CLASS_NAME, 'artdeco-inline-feedback__message')) > 0:\n",
    "                raise Exception('no answer')\n",
    "            try:\n",
    "                driver.find_element(By.XPATH,\"//Button[@aria-label='Continue to next step']\").click()\n",
    "            except:\n",
    "                try:\n",
    "                    driver.find_element(By.XPATH,\"//Button[@aria-label='Review your application']\").click()\n",
    "                    time.sleep(.5)\n",
    "                    driver.find_element(By.XPATH,\"//Button[@aria-label='Submit application']\").click()\n",
    "                    time.sleep(1)\n",
    "                    driver.find_element(By.XPATH,\"//Button[@aria-label='Dismiss']\").click()\n",
    "                    break\n",
    "                except:\n",
    "                    driver.find_element(By.XPATH,\"//Button[@aria-label='Submit application']\").click()\n",
    "                    time.sleep(1)\n",
    "                    driver.find_element(By.XPATH,\"//Button[@aria-label='Dismiss']\").click()\n",
    "                    break\n",
    "    except:\n",
    "        time.sleep(0.5)\n",
    "        driver.find_element(By.XPATH,\"//Button[@aria-label='Dismiss']\").click()\n",
    "        time.sleep(1)\n",
    "        driver.find_element(By.XPATH, \"//Button[@data-control-name='discard_application_confirm_btn']\").click()"
   ]
  },
  {
   "cell_type": "code",
   "execution_count": 149,
   "id": "02f18c63",
   "metadata": {},
   "outputs": [],
   "source": [
    "def link_apply_page():\n",
    "    app_list = driver.find_element(By.CLASS_NAME, 'scaffold-layout__list-container').find_elements(By.XPATH, '*')\n",
    "    for app in app_list:\n",
    "        app.click()\n",
    "        time.sleep(2.5)\n",
    "        if len(driver.find_elements(By.CLASS_NAME, 'jobs-apply-button--top-card')) == 0:\n",
    "            continue\n",
    "        else:\n",
    "            easy_apply()\n",
    "    "
   ]
  },
  {
   "cell_type": "code",
   "execution_count": null,
   "id": "be22ff2a",
   "metadata": {},
   "outputs": [],
   "source": [
    "num_text = driver.find_element(By.XPATH, \"//div[@class = 'jobs-search-results-list__subtitle']\").text\n",
    "num_jobs = int(num.split()[0])\n",
    "num_pages = math.ceil(num_jobs/25)\n",
    "for i in np.arange(2,num_pages):\n",
    "    driver.get('''https://www.linkedin.com/jobs/search/?currentJobId=3556487002&f_AL=true&f_E=1%2C2&f_JT=F%2CI&f_T=340&keywords=data%20analyst&sortBy=R&start={}'''.format(i*25))\n",
    "    time.sleep(2)\n",
    "    link_apply_page()"
   ]
  },
  {
   "cell_type": "code",
   "execution_count": 28,
   "id": "30594566",
   "metadata": {},
   "outputs": [],
   "source": []
  },
  {
   "cell_type": "code",
   "execution_count": null,
   "id": "08cadcd9",
   "metadata": {},
   "outputs": [],
   "source": []
  },
  {
   "cell_type": "code",
   "execution_count": null,
   "id": "970744d6",
   "metadata": {},
   "outputs": [],
   "source": []
  },
  {
   "cell_type": "code",
   "execution_count": null,
   "id": "0005ca05",
   "metadata": {},
   "outputs": [],
   "source": []
  },
  {
   "cell_type": "code",
   "execution_count": null,
   "id": "a8f94f50",
   "metadata": {},
   "outputs": [],
   "source": []
  },
  {
   "cell_type": "code",
   "execution_count": null,
   "id": "45790826",
   "metadata": {},
   "outputs": [],
   "source": []
  },
  {
   "cell_type": "code",
   "execution_count": null,
   "id": "4a58a3dc",
   "metadata": {},
   "outputs": [],
   "source": [
    "# this part isnt done yet"
   ]
  },
  {
   "cell_type": "code",
   "execution_count": 194,
   "id": "44d9a61c",
   "metadata": {},
   "outputs": [
    {
     "data": {
      "text/plain": [
       "['611A4935D8DD07CA7238AC96EEE950BE', '1D533432136CB2B080281578C2A20522']"
      ]
     },
     "execution_count": 194,
     "metadata": {},
     "output_type": "execute_result"
    }
   ],
   "source": [
    "handles = driver.window_handles\n",
    "driver.switch_to.window(handles[1])"
   ]
  },
  {
   "cell_type": "code",
   "execution_count": 196,
   "id": "8c82fbf6",
   "metadata": {},
   "outputs": [],
   "source": [
    "applys = driver.find_elements(By.XPATH, \"//*[contains(text(), 'Apply')]\")\n",
    "for apply in applys:\n",
    "    try:\n",
    "        apply.click()\n",
    "        break\n",
    "    except:\n",
    "        continue"
   ]
  },
  {
   "cell_type": "code",
   "execution_count": null,
   "id": "07e20bbe",
   "metadata": {},
   "outputs": [],
   "source": []
  },
  {
   "cell_type": "code",
   "execution_count": 220,
   "id": "535bb1ad",
   "metadata": {},
   "outputs": [],
   "source": [
    "first_name_keywords = ['FirstName', 'First Name', 'firstname', 'first name', 'firstName', 'Firstname', 'First name',\n",
    "                        'first Name', 'first-name', 'First-Name']\n",
    "last_name_keywords = ['LastName', 'Last Name', 'lastname', 'last name', 'lastName', 'Lastname', 'Last name', 'last Name', \n",
    "                       'FamilyName', 'Family Name', 'familyname', 'Familyname', 'family Name', 'family name', 'Last-Name'\n",
    "                      'last-name']\n",
    "email_keywords = ['email', 'Email', 'register-email', 'Email Address', 'EmailAddress', 'email address']\n",
    "password_keywords = ['password', 'Password', 'register-password']\n",
    "confirm_pass_keywords = ['ConfirmPassword', 'Confirm Password', 'confirmpassword', 'confirm password', 'Confirm password', \n",
    "                         'Confirm-Password']\n",
    "phone_keywords = ['Phone Number', 'phone number', 'PhoneNumber', 'phonenumber', 'phoneNumber', 'Phone number', 'Phone', \n",
    "                  'phone', 'Phone-Number', 'phone-number']\n",
    "checkbox_keywords = ['checkbox', 'Checkbox', 'check box', 'Check Box', 'CheckBox']\n",
    "city_keywords = ['City', 'city', 'Address-level2']\n",
    "zipcode_keywords = ['zip', 'Zip', 'zipcode', 'Zipcode', 'ZipCode', 'zip-code', 'Zip-Code', 'Postal Code', 'postal code', \n",
    "                    'Postal-Code', 'postal-code']\n",
    "username_keywords = ['Username', 'username', 'user name']\n",
    "file_keywords = ['file', 'File', 'files', 'Files', 'FileUpload']\n",
    "address_keywords = ['Address', 'address']\n"
   ]
  },
  {
   "cell_type": "code",
   "execution_count": 225,
   "id": "e62a7f50",
   "metadata": {
    "scrolled": true
   },
   "outputs": [
    {
     "ename": "ElementClickInterceptedException",
     "evalue": "Message: element click intercepted: Element <input type=\"checkbox\" id=\"WillingToRelocate\" data-automation=\"willing-to-relocate-checkbox\" data-bind=\"checked: WillingToRelocate, configurableInput: $parent.willingToRelocateConfig\"> is not clickable at point (126, 512). Other element would receive the click: <div class=\"us-overlay\" style=\"border-radius: inherit; position: absolute; opacity: 0.7; background-color: rgb(255, 255, 255); display: block; margin-top: 0px; margin-left: 0px; height: 4262px; width: 1348px;\"></div>\n  (Session info: chrome=111.0.5563.148)\nStacktrace:\nBacktrace:\n\t(No symbol) [0x00A2DCE3]\n\t(No symbol) [0x009C39D1]\n\t(No symbol) [0x008D4DA8]\n\t(No symbol) [0x009052EA]\n\t(No symbol) [0x00903BBA]\n\t(No symbol) [0x00901EFB]\n\t(No symbol) [0x00901027]\n\t(No symbol) [0x008F8D05]\n\t(No symbol) [0x0091AECC]\n\t(No symbol) [0x008F8726]\n\t(No symbol) [0x0091B224]\n\t(No symbol) [0x0092D57C]\n\t(No symbol) [0x0091ACC6]\n\t(No symbol) [0x008F6F68]\n\t(No symbol) [0x008F80CD]\n\tGetHandleVerifier [0x00CA3832+2506274]\n\tGetHandleVerifier [0x00CD9794+2727300]\n\tGetHandleVerifier [0x00CDE36C+2746716]\n\tGetHandleVerifier [0x00AD6690+617600]\n\t(No symbol) [0x009CC712]\n\t(No symbol) [0x009D1FF8]\n\t(No symbol) [0x009D20DB]\n\t(No symbol) [0x009DC63B]\n\tBaseThreadInitThunk [0x768F7D69+25]\n\tRtlInitializeExceptionChain [0x77BDB74B+107]\n\tRtlClearBits [0x77BDB6CF+191]\n",
     "output_type": "error",
     "traceback": [
      "\u001b[1;31m---------------------------------------------------------------------------\u001b[0m",
      "\u001b[1;31mElementClickInterceptedException\u001b[0m          Traceback (most recent call last)",
      "Cell \u001b[1;32mIn [225], line 27\u001b[0m\n\u001b[0;32m     25\u001b[0m \u001b[38;5;28;01mfor\u001b[39;00m key \u001b[38;5;129;01min\u001b[39;00m checkbox_keywords:\n\u001b[0;32m     26\u001b[0m     \u001b[38;5;28;01mif\u001b[39;00m key \u001b[38;5;129;01min\u001b[39;00m all_ats:\n\u001b[1;32m---> 27\u001b[0m         \u001b[43melement\u001b[49m\u001b[38;5;241;43m.\u001b[39;49m\u001b[43mclick\u001b[49m\u001b[43m(\u001b[49m\u001b[43m)\u001b[49m\n\u001b[0;32m     28\u001b[0m         \u001b[38;5;28;01mbreak\u001b[39;00m\n\u001b[0;32m     29\u001b[0m \u001b[38;5;28;01mfor\u001b[39;00m key \u001b[38;5;129;01min\u001b[39;00m city_keywords:\n",
      "File \u001b[1;32m~\\anaconda3\\lib\\site-packages\\selenium\\webdriver\\remote\\webelement.py:93\u001b[0m, in \u001b[0;36mWebElement.click\u001b[1;34m(self)\u001b[0m\n\u001b[0;32m     91\u001b[0m \u001b[38;5;28;01mdef\u001b[39;00m \u001b[38;5;21mclick\u001b[39m(\u001b[38;5;28mself\u001b[39m) \u001b[38;5;241m-\u001b[39m\u001b[38;5;241m>\u001b[39m \u001b[38;5;28;01mNone\u001b[39;00m:\n\u001b[0;32m     92\u001b[0m     \u001b[38;5;124;03m\"\"\"Clicks the element.\"\"\"\u001b[39;00m\n\u001b[1;32m---> 93\u001b[0m     \u001b[38;5;28;43mself\u001b[39;49m\u001b[38;5;241;43m.\u001b[39;49m\u001b[43m_execute\u001b[49m\u001b[43m(\u001b[49m\u001b[43mCommand\u001b[49m\u001b[38;5;241;43m.\u001b[39;49m\u001b[43mCLICK_ELEMENT\u001b[49m\u001b[43m)\u001b[49m\n",
      "File \u001b[1;32m~\\anaconda3\\lib\\site-packages\\selenium\\webdriver\\remote\\webelement.py:410\u001b[0m, in \u001b[0;36mWebElement._execute\u001b[1;34m(self, command, params)\u001b[0m\n\u001b[0;32m    408\u001b[0m     params \u001b[38;5;241m=\u001b[39m {}\n\u001b[0;32m    409\u001b[0m params[\u001b[38;5;124m\"\u001b[39m\u001b[38;5;124mid\u001b[39m\u001b[38;5;124m\"\u001b[39m] \u001b[38;5;241m=\u001b[39m \u001b[38;5;28mself\u001b[39m\u001b[38;5;241m.\u001b[39m_id\n\u001b[1;32m--> 410\u001b[0m \u001b[38;5;28;01mreturn\u001b[39;00m \u001b[38;5;28;43mself\u001b[39;49m\u001b[38;5;241;43m.\u001b[39;49m\u001b[43m_parent\u001b[49m\u001b[38;5;241;43m.\u001b[39;49m\u001b[43mexecute\u001b[49m\u001b[43m(\u001b[49m\u001b[43mcommand\u001b[49m\u001b[43m,\u001b[49m\u001b[43m \u001b[49m\u001b[43mparams\u001b[49m\u001b[43m)\u001b[49m\n",
      "File \u001b[1;32m~\\anaconda3\\lib\\site-packages\\selenium\\webdriver\\remote\\webdriver.py:444\u001b[0m, in \u001b[0;36mWebDriver.execute\u001b[1;34m(self, driver_command, params)\u001b[0m\n\u001b[0;32m    442\u001b[0m response \u001b[38;5;241m=\u001b[39m \u001b[38;5;28mself\u001b[39m\u001b[38;5;241m.\u001b[39mcommand_executor\u001b[38;5;241m.\u001b[39mexecute(driver_command, params)\n\u001b[0;32m    443\u001b[0m \u001b[38;5;28;01mif\u001b[39;00m response:\n\u001b[1;32m--> 444\u001b[0m     \u001b[38;5;28;43mself\u001b[39;49m\u001b[38;5;241;43m.\u001b[39;49m\u001b[43merror_handler\u001b[49m\u001b[38;5;241;43m.\u001b[39;49m\u001b[43mcheck_response\u001b[49m\u001b[43m(\u001b[49m\u001b[43mresponse\u001b[49m\u001b[43m)\u001b[49m\n\u001b[0;32m    445\u001b[0m     response[\u001b[38;5;124m\"\u001b[39m\u001b[38;5;124mvalue\u001b[39m\u001b[38;5;124m\"\u001b[39m] \u001b[38;5;241m=\u001b[39m \u001b[38;5;28mself\u001b[39m\u001b[38;5;241m.\u001b[39m_unwrap_value(response\u001b[38;5;241m.\u001b[39mget(\u001b[38;5;124m\"\u001b[39m\u001b[38;5;124mvalue\u001b[39m\u001b[38;5;124m\"\u001b[39m, \u001b[38;5;28;01mNone\u001b[39;00m))\n\u001b[0;32m    446\u001b[0m     \u001b[38;5;28;01mreturn\u001b[39;00m response\n",
      "File \u001b[1;32m~\\anaconda3\\lib\\site-packages\\selenium\\webdriver\\remote\\errorhandler.py:249\u001b[0m, in \u001b[0;36mErrorHandler.check_response\u001b[1;34m(self, response)\u001b[0m\n\u001b[0;32m    247\u001b[0m         alert_text \u001b[38;5;241m=\u001b[39m value[\u001b[38;5;124m\"\u001b[39m\u001b[38;5;124malert\u001b[39m\u001b[38;5;124m\"\u001b[39m]\u001b[38;5;241m.\u001b[39mget(\u001b[38;5;124m\"\u001b[39m\u001b[38;5;124mtext\u001b[39m\u001b[38;5;124m\"\u001b[39m)\n\u001b[0;32m    248\u001b[0m     \u001b[38;5;28;01mraise\u001b[39;00m exception_class(message, screen, stacktrace, alert_text)  \u001b[38;5;66;03m# type: ignore[call-arg]  # mypy is not smart enough here\u001b[39;00m\n\u001b[1;32m--> 249\u001b[0m \u001b[38;5;28;01mraise\u001b[39;00m exception_class(message, screen, stacktrace)\n",
      "\u001b[1;31mElementClickInterceptedException\u001b[0m: Message: element click intercepted: Element <input type=\"checkbox\" id=\"WillingToRelocate\" data-automation=\"willing-to-relocate-checkbox\" data-bind=\"checked: WillingToRelocate, configurableInput: $parent.willingToRelocateConfig\"> is not clickable at point (126, 512). Other element would receive the click: <div class=\"us-overlay\" style=\"border-radius: inherit; position: absolute; opacity: 0.7; background-color: rgb(255, 255, 255); display: block; margin-top: 0px; margin-left: 0px; height: 4262px; width: 1348px;\"></div>\n  (Session info: chrome=111.0.5563.148)\nStacktrace:\nBacktrace:\n\t(No symbol) [0x00A2DCE3]\n\t(No symbol) [0x009C39D1]\n\t(No symbol) [0x008D4DA8]\n\t(No symbol) [0x009052EA]\n\t(No symbol) [0x00903BBA]\n\t(No symbol) [0x00901EFB]\n\t(No symbol) [0x00901027]\n\t(No symbol) [0x008F8D05]\n\t(No symbol) [0x0091AECC]\n\t(No symbol) [0x008F8726]\n\t(No symbol) [0x0091B224]\n\t(No symbol) [0x0092D57C]\n\t(No symbol) [0x0091ACC6]\n\t(No symbol) [0x008F6F68]\n\t(No symbol) [0x008F80CD]\n\tGetHandleVerifier [0x00CA3832+2506274]\n\tGetHandleVerifier [0x00CD9794+2727300]\n\tGetHandleVerifier [0x00CDE36C+2746716]\n\tGetHandleVerifier [0x00AD6690+617600]\n\t(No symbol) [0x009CC712]\n\t(No symbol) [0x009D1FF8]\n\t(No symbol) [0x009D20DB]\n\t(No symbol) [0x009DC63B]\n\tBaseThreadInitThunk [0x768F7D69+25]\n\tRtlInitializeExceptionChain [0x77BDB74B+107]\n\tRtlClearBits [0x77BDB6CF+191]\n"
     ]
    }
   ],
   "source": [
    "elements = driver.find_elements(By.TAG_NAME, 'input')\n",
    "for element in elements:\n",
    "    ats = driver.execute_script('var items = {}; for (index = 0; index < arguments[0].attributes.length; ++index) { items[arguments[0].attributes[index].name] = arguments[0].attributes[index].value }; return items;', element)\n",
    "    all_ats = ' '.join(list(ats.values()))\n",
    "    for key in first_name_keywords:\n",
    "        if key in all_ats:\n",
    "            element.send_keys('John')\n",
    "            break\n",
    "    for key in last_name_keywords:\n",
    "        if key in all_ats:\n",
    "            element.send_keys('Harrigan')\n",
    "            break\n",
    "    for key in email_keywords:\n",
    "        if key in all_ats:\n",
    "            element.send_keys('ooharrigan@gmail.com')\n",
    "            break\n",
    "    for key in password_keywords:\n",
    "        if key in all_ats:\n",
    "            element.send_keys('Jackbrain24!')\n",
    "            break\n",
    "    for key in phone_keywords:\n",
    "        if key in all_ats:\n",
    "            element.send_keys('2015391077')\n",
    "            break\n",
    "    for key in checkbox_keywords:\n",
    "        if key in all_ats:\n",
    "            element.click()\n",
    "            break\n",
    "    for key in city_keywords:\n",
    "        if key in all_ats:\n",
    "            element.send_keys('Maplewood')\n",
    "            break\n",
    "    for key in zipcode_keywords:\n",
    "        if key in all_ats:\n",
    "            element.send_keys('07040')\n",
    "            break\n",
    "    for key in username_keywords:\n",
    "        if key in all_ats:\n",
    "            element.send_keys('ooharrigan@gmail.com')\n",
    "            break\n",
    "    for key in file_keywords:\n",
    "        if key in all_ats:\n",
    "            element.send_keys(r\"C:\\Users\\jackl\\Downloads\\John_Harrigan_Resume (2).pdf\")\n",
    "            break\n",
    "            "
   ]
  },
  {
   "cell_type": "code",
   "execution_count": 167,
   "id": "d6c281fc",
   "metadata": {},
   "outputs": [
    {
     "data": {
      "text/plain": [
       "{'id': 'apTxnId',\n",
       " 'type': 'hidden',\n",
       " 'value': 'd7fac387-90cb-46d0-9153-642f918195e5'}"
      ]
     },
     "execution_count": 167,
     "metadata": {},
     "output_type": "execute_result"
    }
   ],
   "source": [
    "try:\n",
    "    driver.find_element(By.XPATH, )"
   ]
  },
  {
   "cell_type": "code",
   "execution_count": 166,
   "id": "00c3dfba",
   "metadata": {},
   "outputs": [
    {
     "data": {
      "text/plain": [
       "'apTxnId hidden d7fac387-90cb-46d0-9153-642f918195e5'"
      ]
     },
     "execution_count": 166,
     "metadata": {},
     "output_type": "execute_result"
    }
   ],
   "source": [
    "' '.join(list(ats.values()))"
   ]
  },
  {
   "cell_type": "code",
   "execution_count": 204,
   "id": "8014ec6a",
   "metadata": {},
   "outputs": [
    {
     "name": "stdout",
     "output_type": "stream",
     "text": [
      "bad\n"
     ]
    }
   ],
   "source": [
    "try:\n",
    "    driver.find_element(By.XPATH, \"//button[contains(text(), 'Register')]\").click()\n",
    "except:\n",
    "    try:\n",
    "        driver.find_element(By.XPATH, \"//button[contains(text(), 'Sign in')]\").click()\n",
    "    except:\n",
    "        try:\n",
    "            driver.find_element(By.XPATH, \"//ukg-button[contains(text(), ' Sign in')]\").click()\n",
    "        except:\n",
    "            print('bad')"
   ]
  },
  {
   "cell_type": "code",
   "execution_count": null,
   "id": "195146eb",
   "metadata": {},
   "outputs": [],
   "source": []
  },
  {
   "cell_type": "code",
   "execution_count": 219,
   "id": "69327750",
   "metadata": {},
   "outputs": [],
   "source": [
    "driver.find_element(By.XPATH, \"//ukg-button[contains(text(), ' Sign in')]\").click()"
   ]
  },
  {
   "cell_type": "code",
   "execution_count": 224,
   "id": "c55bf988",
   "metadata": {},
   "outputs": [],
   "source": [
    "driver.find_element(By.XPATH, \"//input[@name = 'file']\").send_keys(r\"C:\\Users\\jackl\\Downloads\\John_Harrigan_Resume (2).pdf\")"
   ]
  },
  {
   "cell_type": "code",
   "execution_count": null,
   "id": "815081d2",
   "metadata": {},
   "outputs": [],
   "source": []
  },
  {
   "cell_type": "code",
   "execution_count": null,
   "id": "8b76c676",
   "metadata": {},
   "outputs": [],
   "source": []
  },
  {
   "cell_type": "code",
   "execution_count": null,
   "id": "df444333",
   "metadata": {},
   "outputs": [],
   "source": []
  },
  {
   "cell_type": "code",
   "execution_count": null,
   "id": "61524003",
   "metadata": {},
   "outputs": [],
   "source": []
  },
  {
   "cell_type": "code",
   "execution_count": null,
   "id": "56ce3b7c",
   "metadata": {},
   "outputs": [],
   "source": []
  },
  {
   "cell_type": "code",
   "execution_count": 105,
   "id": "3b7ea23b",
   "metadata": {
    "collapsed": true
   },
   "outputs": [
    {
     "ename": "NoAlertPresentException",
     "evalue": "Message: no such alert\n  (Session info: chrome=111.0.5563.148)\nStacktrace:\nBacktrace:\n\t(No symbol) [0x00A2DCE3]\n\t(No symbol) [0x009C39D1]\n\t(No symbol) [0x008D4C70]\n\t(No symbol) [0x008CE25F]\n\t(No symbol) [0x008E6014]\n\t(No symbol) [0x0091AF44]\n\t(No symbol) [0x008E5EDD]\n\t(No symbol) [0x0091ACC6]\n\t(No symbol) [0x008F6F68]\n\t(No symbol) [0x008F80CD]\n\tGetHandleVerifier [0x00CA3832+2506274]\n\tGetHandleVerifier [0x00CD9794+2727300]\n\tGetHandleVerifier [0x00CDE36C+2746716]\n\tGetHandleVerifier [0x00AD6690+617600]\n\t(No symbol) [0x009CC712]\n\t(No symbol) [0x009D1FF8]\n\t(No symbol) [0x009D20DB]\n\t(No symbol) [0x009DC63B]\n\tBaseThreadInitThunk [0x768F7D69+25]\n\tRtlInitializeExceptionChain [0x77BDB74B+107]\n\tRtlClearBits [0x77BDB6CF+191]\n",
     "output_type": "error",
     "traceback": [
      "\u001b[1;31m---------------------------------------------------------------------------\u001b[0m",
      "\u001b[1;31mNoAlertPresentException\u001b[0m                   Traceback (most recent call last)",
      "Cell \u001b[1;32mIn [105], line 1\u001b[0m\n\u001b[1;32m----> 1\u001b[0m \u001b[43mdriver\u001b[49m\u001b[38;5;241;43m.\u001b[39;49m\u001b[43mswitch_to\u001b[49m\u001b[38;5;241;43m.\u001b[39;49m\u001b[43malert\u001b[49m\u001b[38;5;241m.\u001b[39maccept()\n",
      "File \u001b[1;32m~\\anaconda3\\lib\\site-packages\\selenium\\webdriver\\remote\\switch_to.py:57\u001b[0m, in \u001b[0;36mSwitchTo.alert\u001b[1;34m(self)\u001b[0m\n\u001b[0;32m     48\u001b[0m \u001b[38;5;124;03m\"\"\"\u001b[39;00m\n\u001b[0;32m     49\u001b[0m \u001b[38;5;124;03mSwitches focus to an alert on the page.\u001b[39;00m\n\u001b[0;32m     50\u001b[0m \n\u001b[1;32m   (...)\u001b[0m\n\u001b[0;32m     54\u001b[0m \u001b[38;5;124;03m        alert = driver.switch_to.alert\u001b[39;00m\n\u001b[0;32m     55\u001b[0m \u001b[38;5;124;03m\"\"\"\u001b[39;00m\n\u001b[0;32m     56\u001b[0m alert \u001b[38;5;241m=\u001b[39m Alert(\u001b[38;5;28mself\u001b[39m\u001b[38;5;241m.\u001b[39m_driver)\n\u001b[1;32m---> 57\u001b[0m _ \u001b[38;5;241m=\u001b[39m \u001b[43malert\u001b[49m\u001b[38;5;241;43m.\u001b[39;49m\u001b[43mtext\u001b[49m\n\u001b[0;32m     58\u001b[0m \u001b[38;5;28;01mreturn\u001b[39;00m alert\n",
      "File \u001b[1;32m~\\anaconda3\\lib\\site-packages\\selenium\\webdriver\\common\\alert.py:66\u001b[0m, in \u001b[0;36mAlert.text\u001b[1;34m(self)\u001b[0m\n\u001b[0;32m     61\u001b[0m \u001b[38;5;129m@property\u001b[39m\n\u001b[0;32m     62\u001b[0m \u001b[38;5;28;01mdef\u001b[39;00m \u001b[38;5;21mtext\u001b[39m(\u001b[38;5;28mself\u001b[39m):\n\u001b[0;32m     63\u001b[0m     \u001b[38;5;124;03m\"\"\"\u001b[39;00m\n\u001b[0;32m     64\u001b[0m \u001b[38;5;124;03m    Gets the text of the Alert.\u001b[39;00m\n\u001b[0;32m     65\u001b[0m \u001b[38;5;124;03m    \"\"\"\u001b[39;00m\n\u001b[1;32m---> 66\u001b[0m     \u001b[38;5;28;01mreturn\u001b[39;00m \u001b[38;5;28;43mself\u001b[39;49m\u001b[38;5;241;43m.\u001b[39;49m\u001b[43mdriver\u001b[49m\u001b[38;5;241;43m.\u001b[39;49m\u001b[43mexecute\u001b[49m\u001b[43m(\u001b[49m\u001b[43mCommand\u001b[49m\u001b[38;5;241;43m.\u001b[39;49m\u001b[43mW3C_GET_ALERT_TEXT\u001b[49m\u001b[43m)\u001b[49m[\u001b[38;5;124m\"\u001b[39m\u001b[38;5;124mvalue\u001b[39m\u001b[38;5;124m\"\u001b[39m]\n",
      "File \u001b[1;32m~\\anaconda3\\lib\\site-packages\\selenium\\webdriver\\remote\\webdriver.py:444\u001b[0m, in \u001b[0;36mWebDriver.execute\u001b[1;34m(self, driver_command, params)\u001b[0m\n\u001b[0;32m    442\u001b[0m response \u001b[38;5;241m=\u001b[39m \u001b[38;5;28mself\u001b[39m\u001b[38;5;241m.\u001b[39mcommand_executor\u001b[38;5;241m.\u001b[39mexecute(driver_command, params)\n\u001b[0;32m    443\u001b[0m \u001b[38;5;28;01mif\u001b[39;00m response:\n\u001b[1;32m--> 444\u001b[0m     \u001b[38;5;28;43mself\u001b[39;49m\u001b[38;5;241;43m.\u001b[39;49m\u001b[43merror_handler\u001b[49m\u001b[38;5;241;43m.\u001b[39;49m\u001b[43mcheck_response\u001b[49m\u001b[43m(\u001b[49m\u001b[43mresponse\u001b[49m\u001b[43m)\u001b[49m\n\u001b[0;32m    445\u001b[0m     response[\u001b[38;5;124m\"\u001b[39m\u001b[38;5;124mvalue\u001b[39m\u001b[38;5;124m\"\u001b[39m] \u001b[38;5;241m=\u001b[39m \u001b[38;5;28mself\u001b[39m\u001b[38;5;241m.\u001b[39m_unwrap_value(response\u001b[38;5;241m.\u001b[39mget(\u001b[38;5;124m\"\u001b[39m\u001b[38;5;124mvalue\u001b[39m\u001b[38;5;124m\"\u001b[39m, \u001b[38;5;28;01mNone\u001b[39;00m))\n\u001b[0;32m    446\u001b[0m     \u001b[38;5;28;01mreturn\u001b[39;00m response\n",
      "File \u001b[1;32m~\\anaconda3\\lib\\site-packages\\selenium\\webdriver\\remote\\errorhandler.py:249\u001b[0m, in \u001b[0;36mErrorHandler.check_response\u001b[1;34m(self, response)\u001b[0m\n\u001b[0;32m    247\u001b[0m         alert_text \u001b[38;5;241m=\u001b[39m value[\u001b[38;5;124m\"\u001b[39m\u001b[38;5;124malert\u001b[39m\u001b[38;5;124m\"\u001b[39m]\u001b[38;5;241m.\u001b[39mget(\u001b[38;5;124m\"\u001b[39m\u001b[38;5;124mtext\u001b[39m\u001b[38;5;124m\"\u001b[39m)\n\u001b[0;32m    248\u001b[0m     \u001b[38;5;28;01mraise\u001b[39;00m exception_class(message, screen, stacktrace, alert_text)  \u001b[38;5;66;03m# type: ignore[call-arg]  # mypy is not smart enough here\u001b[39;00m\n\u001b[1;32m--> 249\u001b[0m \u001b[38;5;28;01mraise\u001b[39;00m exception_class(message, screen, stacktrace)\n",
      "\u001b[1;31mNoAlertPresentException\u001b[0m: Message: no such alert\n  (Session info: chrome=111.0.5563.148)\nStacktrace:\nBacktrace:\n\t(No symbol) [0x00A2DCE3]\n\t(No symbol) [0x009C39D1]\n\t(No symbol) [0x008D4C70]\n\t(No symbol) [0x008CE25F]\n\t(No symbol) [0x008E6014]\n\t(No symbol) [0x0091AF44]\n\t(No symbol) [0x008E5EDD]\n\t(No symbol) [0x0091ACC6]\n\t(No symbol) [0x008F6F68]\n\t(No symbol) [0x008F80CD]\n\tGetHandleVerifier [0x00CA3832+2506274]\n\tGetHandleVerifier [0x00CD9794+2727300]\n\tGetHandleVerifier [0x00CDE36C+2746716]\n\tGetHandleVerifier [0x00AD6690+617600]\n\t(No symbol) [0x009CC712]\n\t(No symbol) [0x009D1FF8]\n\t(No symbol) [0x009D20DB]\n\t(No symbol) [0x009DC63B]\n\tBaseThreadInitThunk [0x768F7D69+25]\n\tRtlInitializeExceptionChain [0x77BDB74B+107]\n\tRtlClearBits [0x77BDB6CF+191]\n"
     ]
    }
   ],
   "source": [
    "def cookie_check():\n",
    "    "
   ]
  },
  {
   "cell_type": "code",
   "execution_count": 107,
   "id": "1c0de697",
   "metadata": {},
   "outputs": [],
   "source": [
    "divs = driver.find_elements(By.TAG_NAME, 'div')"
   ]
  },
  {
   "cell_type": "code",
   "execution_count": 111,
   "id": "d7420e79",
   "metadata": {},
   "outputs": [],
   "source": [
    "all_text = ''\n",
    "for div in divs:\n",
    "    if 'cookies' in div.text:\n",
    "        print('yes')"
   ]
  },
  {
   "cell_type": "code",
   "execution_count": 116,
   "id": "43f48476",
   "metadata": {},
   "outputs": [],
   "source": [
    "everything = driver.find_elements(By.XPATH, '*')[0].text"
   ]
  },
  {
   "cell_type": "code",
   "execution_count": 121,
   "id": "6db8a3f4",
   "metadata": {},
   "outputs": [
    {
     "ename": "AttributeError",
     "evalue": "'WebDriver' object has no attribute 'switch_to_frame'",
     "output_type": "error",
     "traceback": [
      "\u001b[1;31m---------------------------------------------------------------------------\u001b[0m",
      "\u001b[1;31mAttributeError\u001b[0m                            Traceback (most recent call last)",
      "Cell \u001b[1;32mIn [121], line 1\u001b[0m\n\u001b[1;32m----> 1\u001b[0m \u001b[43mdriver\u001b[49m\u001b[38;5;241;43m.\u001b[39;49m\u001b[43mswitch_to_frame\u001b[49m(\u001b[38;5;124m'\u001b[39m\u001b[38;5;124mundefined\u001b[39m\u001b[38;5;124m'\u001b[39m)\n",
      "\u001b[1;31mAttributeError\u001b[0m: 'WebDriver' object has no attribute 'switch_to_frame'"
     ]
    }
   ],
   "source": [
    "driver.switch_to_frame('undefined')"
   ]
  },
  {
   "cell_type": "code",
   "execution_count": 120,
   "id": "e88a52f1",
   "metadata": {
    "collapsed": true
   },
   "outputs": [
    {
     "ename": "NoSuchElementException",
     "evalue": "Message: no such element: Unable to locate element: {\"method\":\"css selector\",\"selector\":\"#acceptCookies\"}\n  (Session info: chrome=111.0.5563.148)\nStacktrace:\nBacktrace:\n\t(No symbol) [0x00A2DCE3]\n\t(No symbol) [0x009C39D1]\n\t(No symbol) [0x008D4DA8]\n\t(No symbol) [0x0090019F]\n\t(No symbol) [0x009003AB]\n\t(No symbol) [0x0092EE62]\n\t(No symbol) [0x0091AF14]\n\t(No symbol) [0x0092D57C]\n\t(No symbol) [0x0091ACC6]\n\t(No symbol) [0x008F6F68]\n\t(No symbol) [0x008F80CD]\n\tGetHandleVerifier [0x00CA3832+2506274]\n\tGetHandleVerifier [0x00CD9794+2727300]\n\tGetHandleVerifier [0x00CDE36C+2746716]\n\tGetHandleVerifier [0x00AD6690+617600]\n\t(No symbol) [0x009CC712]\n\t(No symbol) [0x009D1FF8]\n\t(No symbol) [0x009D20DB]\n\t(No symbol) [0x009DC63B]\n\tBaseThreadInitThunk [0x768F7D69+25]\n\tRtlInitializeExceptionChain [0x77BDB74B+107]\n\tRtlClearBits [0x77BDB6CF+191]\n",
     "output_type": "error",
     "traceback": [
      "\u001b[1;31m---------------------------------------------------------------------------\u001b[0m",
      "\u001b[1;31mNoSuchElementException\u001b[0m                    Traceback (most recent call last)",
      "Cell \u001b[1;32mIn [120], line 1\u001b[0m\n\u001b[1;32m----> 1\u001b[0m \u001b[43mdriver\u001b[49m\u001b[38;5;241;43m.\u001b[39;49m\u001b[43mfind_element\u001b[49m\u001b[43m(\u001b[49m\u001b[43mBy\u001b[49m\u001b[38;5;241;43m.\u001b[39;49m\u001b[43mCSS_SELECTOR\u001b[49m\u001b[43m,\u001b[49m\u001b[43m \u001b[49m\u001b[38;5;124;43m'\u001b[39;49m\u001b[38;5;124;43m#acceptCookies\u001b[39;49m\u001b[38;5;124;43m'\u001b[39;49m\u001b[43m)\u001b[49m\n",
      "File \u001b[1;32m~\\anaconda3\\lib\\site-packages\\selenium\\webdriver\\remote\\webdriver.py:861\u001b[0m, in \u001b[0;36mWebDriver.find_element\u001b[1;34m(self, by, value)\u001b[0m\n\u001b[0;32m    858\u001b[0m     by \u001b[38;5;241m=\u001b[39m By\u001b[38;5;241m.\u001b[39mCSS_SELECTOR\n\u001b[0;32m    859\u001b[0m     value \u001b[38;5;241m=\u001b[39m \u001b[38;5;124m'\u001b[39m\u001b[38;5;124m[name=\u001b[39m\u001b[38;5;124m\"\u001b[39m\u001b[38;5;132;01m%s\u001b[39;00m\u001b[38;5;124m\"\u001b[39m\u001b[38;5;124m]\u001b[39m\u001b[38;5;124m'\u001b[39m \u001b[38;5;241m%\u001b[39m value\n\u001b[1;32m--> 861\u001b[0m \u001b[38;5;28;01mreturn\u001b[39;00m \u001b[38;5;28;43mself\u001b[39;49m\u001b[38;5;241;43m.\u001b[39;49m\u001b[43mexecute\u001b[49m\u001b[43m(\u001b[49m\u001b[43mCommand\u001b[49m\u001b[38;5;241;43m.\u001b[39;49m\u001b[43mFIND_ELEMENT\u001b[49m\u001b[43m,\u001b[49m\u001b[43m \u001b[49m\u001b[43m{\u001b[49m\u001b[38;5;124;43m\"\u001b[39;49m\u001b[38;5;124;43musing\u001b[39;49m\u001b[38;5;124;43m\"\u001b[39;49m\u001b[43m:\u001b[49m\u001b[43m \u001b[49m\u001b[43mby\u001b[49m\u001b[43m,\u001b[49m\u001b[43m \u001b[49m\u001b[38;5;124;43m\"\u001b[39;49m\u001b[38;5;124;43mvalue\u001b[39;49m\u001b[38;5;124;43m\"\u001b[39;49m\u001b[43m:\u001b[49m\u001b[43m \u001b[49m\u001b[43mvalue\u001b[49m\u001b[43m}\u001b[49m\u001b[43m)\u001b[49m[\u001b[38;5;124m\"\u001b[39m\u001b[38;5;124mvalue\u001b[39m\u001b[38;5;124m\"\u001b[39m]\n",
      "File \u001b[1;32m~\\anaconda3\\lib\\site-packages\\selenium\\webdriver\\remote\\webdriver.py:444\u001b[0m, in \u001b[0;36mWebDriver.execute\u001b[1;34m(self, driver_command, params)\u001b[0m\n\u001b[0;32m    442\u001b[0m response \u001b[38;5;241m=\u001b[39m \u001b[38;5;28mself\u001b[39m\u001b[38;5;241m.\u001b[39mcommand_executor\u001b[38;5;241m.\u001b[39mexecute(driver_command, params)\n\u001b[0;32m    443\u001b[0m \u001b[38;5;28;01mif\u001b[39;00m response:\n\u001b[1;32m--> 444\u001b[0m     \u001b[38;5;28;43mself\u001b[39;49m\u001b[38;5;241;43m.\u001b[39;49m\u001b[43merror_handler\u001b[49m\u001b[38;5;241;43m.\u001b[39;49m\u001b[43mcheck_response\u001b[49m\u001b[43m(\u001b[49m\u001b[43mresponse\u001b[49m\u001b[43m)\u001b[49m\n\u001b[0;32m    445\u001b[0m     response[\u001b[38;5;124m\"\u001b[39m\u001b[38;5;124mvalue\u001b[39m\u001b[38;5;124m\"\u001b[39m] \u001b[38;5;241m=\u001b[39m \u001b[38;5;28mself\u001b[39m\u001b[38;5;241m.\u001b[39m_unwrap_value(response\u001b[38;5;241m.\u001b[39mget(\u001b[38;5;124m\"\u001b[39m\u001b[38;5;124mvalue\u001b[39m\u001b[38;5;124m\"\u001b[39m, \u001b[38;5;28;01mNone\u001b[39;00m))\n\u001b[0;32m    446\u001b[0m     \u001b[38;5;28;01mreturn\u001b[39;00m response\n",
      "File \u001b[1;32m~\\anaconda3\\lib\\site-packages\\selenium\\webdriver\\remote\\errorhandler.py:249\u001b[0m, in \u001b[0;36mErrorHandler.check_response\u001b[1;34m(self, response)\u001b[0m\n\u001b[0;32m    247\u001b[0m         alert_text \u001b[38;5;241m=\u001b[39m value[\u001b[38;5;124m\"\u001b[39m\u001b[38;5;124malert\u001b[39m\u001b[38;5;124m\"\u001b[39m]\u001b[38;5;241m.\u001b[39mget(\u001b[38;5;124m\"\u001b[39m\u001b[38;5;124mtext\u001b[39m\u001b[38;5;124m\"\u001b[39m)\n\u001b[0;32m    248\u001b[0m     \u001b[38;5;28;01mraise\u001b[39;00m exception_class(message, screen, stacktrace, alert_text)  \u001b[38;5;66;03m# type: ignore[call-arg]  # mypy is not smart enough here\u001b[39;00m\n\u001b[1;32m--> 249\u001b[0m \u001b[38;5;28;01mraise\u001b[39;00m exception_class(message, screen, stacktrace)\n",
      "\u001b[1;31mNoSuchElementException\u001b[0m: Message: no such element: Unable to locate element: {\"method\":\"css selector\",\"selector\":\"#acceptCookies\"}\n  (Session info: chrome=111.0.5563.148)\nStacktrace:\nBacktrace:\n\t(No symbol) [0x00A2DCE3]\n\t(No symbol) [0x009C39D1]\n\t(No symbol) [0x008D4DA8]\n\t(No symbol) [0x0090019F]\n\t(No symbol) [0x009003AB]\n\t(No symbol) [0x0092EE62]\n\t(No symbol) [0x0091AF14]\n\t(No symbol) [0x0092D57C]\n\t(No symbol) [0x0091ACC6]\n\t(No symbol) [0x008F6F68]\n\t(No symbol) [0x008F80CD]\n\tGetHandleVerifier [0x00CA3832+2506274]\n\tGetHandleVerifier [0x00CD9794+2727300]\n\tGetHandleVerifier [0x00CDE36C+2746716]\n\tGetHandleVerifier [0x00AD6690+617600]\n\t(No symbol) [0x009CC712]\n\t(No symbol) [0x009D1FF8]\n\t(No symbol) [0x009D20DB]\n\t(No symbol) [0x009DC63B]\n\tBaseThreadInitThunk [0x768F7D69+25]\n\tRtlInitializeExceptionChain [0x77BDB74B+107]\n\tRtlClearBits [0x77BDB6CF+191]\n"
     ]
    }
   ],
   "source": [
    "driver.find_element(By.CSS_SELECTOR, '#acceptCookies')"
   ]
  },
  {
   "cell_type": "code",
   "execution_count": null,
   "id": "6358fce5",
   "metadata": {},
   "outputs": [],
   "source": []
  },
  {
   "cell_type": "code",
   "execution_count": 35,
   "id": "a2758e14",
   "metadata": {},
   "outputs": [],
   "source": [
    "for apply in driver.find_elements(By.XPATH, \"//*[contains(text(), 'Apply')]\"):\n",
    "    try:\n",
    "        apply.click()\n",
    "        break\n",
    "    except:\n",
    "        continue"
   ]
  },
  {
   "cell_type": "code",
   "execution_count": 130,
   "id": "1732b2a5",
   "metadata": {},
   "outputs": [
    {
     "data": {
      "text/plain": [
       "[<selenium.webdriver.remote.webelement.WebElement (session=\"3ad0ef7b3e87843dec367d24249ca6df\", element=\"51a164cf-88a1-43cc-a8e5-7d9485442a21\")>,\n",
       " <selenium.webdriver.remote.webelement.WebElement (session=\"3ad0ef7b3e87843dec367d24249ca6df\", element=\"b2dd4c9a-49d7-4d82-8dba-03c4190c3b91\")>,\n",
       " <selenium.webdriver.remote.webelement.WebElement (session=\"3ad0ef7b3e87843dec367d24249ca6df\", element=\"ad71d768-ab20-4521-831a-22292d47e290\")>]"
      ]
     },
     "execution_count": 130,
     "metadata": {},
     "output_type": "execute_result"
    }
   ],
   "source": [
    "driver.find_elements(By.XPATH, \"//*[contains(text(), 'Apply')]\")"
   ]
  },
  {
   "cell_type": "code",
   "execution_count": 131,
   "id": "98cf5d57",
   "metadata": {},
   "outputs": [],
   "source": [
    "if 'myworkdayjobs' in driver.current_url:\n",
    "    driver.find_element(By.XPATH, \"//a[contains(text(), 'Apply')]\").click()\n",
    "    driver.find_element(By.XPATH, \"//*[contains(text(), 'Apply Manually')]\").click()"
   ]
  },
  {
   "cell_type": "code",
   "execution_count": null,
   "id": "b3b4a3a3",
   "metadata": {},
   "outputs": [],
   "source": [
    "els = driver.find_elements(By.XPATH, \"//*[contains(text(), 'Apply')]\")\n",
    "driver.find_element(By.XPATH, \"//*[contains(text(), 'Apply Manually')]\").click()"
   ]
  },
  {
   "cell_type": "code",
   "execution_count": null,
   "id": "faa14553",
   "metadata": {},
   "outputs": [],
   "source": []
  },
  {
   "cell_type": "code",
   "execution_count": null,
   "id": "d0356869",
   "metadata": {},
   "outputs": [],
   "source": []
  },
  {
   "cell_type": "code",
   "execution_count": null,
   "id": "4a1532a3",
   "metadata": {},
   "outputs": [],
   "source": []
  },
  {
   "cell_type": "code",
   "execution_count": null,
   "id": "da1eb67c",
   "metadata": {},
   "outputs": [],
   "source": []
  },
  {
   "cell_type": "code",
   "execution_count": 26,
   "id": "c881fae7",
   "metadata": {},
   "outputs": [
    {
     "data": {
      "text/plain": [
       "''"
      ]
     },
     "execution_count": 26,
     "metadata": {},
     "output_type": "execute_result"
    }
   ],
   "source": [
    "apps[0].get_attribute('class')"
   ]
  },
  {
   "cell_type": "code",
   "execution_count": 89,
   "id": "580e52d1",
   "metadata": {},
   "outputs": [],
   "source": [
    "def names(label, box):\n",
    "    box.click()\n",
    "    if 'First' in label.text:\n",
    "        box.send_keys('John')\n",
    "    elif 'Last' in label.text:\n",
    "        box.send_keys('Harrigan')"
   ]
  },
  {
   "cell_type": "code",
   "execution_count": 113,
   "id": "192f3b32",
   "metadata": {},
   "outputs": [],
   "source": [
    "labels = driver.find_elements(By.XPATH, '//input/preceding-sibling::label')\n",
    "fields = driver.find_elements(By.XPATH, '//label/following-sibling::input')"
   ]
  },
  {
   "cell_type": "code",
   "execution_count": 83,
   "id": "ea8f43ef",
   "metadata": {},
   "outputs": [
    {
     "data": {
      "text/plain": [
       "True"
      ]
     },
     "execution_count": 83,
     "metadata": {},
     "output_type": "execute_result"
    }
   ],
   "source": [
    "len(labels) == len(fields)"
   ]
  },
  {
   "cell_type": "code",
   "execution_count": 103,
   "id": "4f32eb0e",
   "metadata": {
    "collapsed": true
   },
   "outputs": [
    {
     "ename": "StaleElementReferenceException",
     "evalue": "Message: stale element reference: element is not attached to the page document\n  (Session info: chrome=111.0.5563.65)\nStacktrace:\nBacktrace:\n\t(No symbol) [0x003ADCE3]\n\t(No symbol) [0x003439D1]\n\t(No symbol) [0x00254DA8]\n\t(No symbol) [0x002576FB]\n\t(No symbol) [0x002575D0]\n\t(No symbol) [0x00257850]\n\t(No symbol) [0x002816CD]\n\t(No symbol) [0x00278B4D]\n\t(No symbol) [0x0029AECC]\n\t(No symbol) [0x00278726]\n\t(No symbol) [0x0029B224]\n\t(No symbol) [0x002AD57C]\n\t(No symbol) [0x0029ACC6]\n\t(No symbol) [0x00276F68]\n\t(No symbol) [0x002780CD]\n\tGetHandleVerifier [0x00623832+2506274]\n\tGetHandleVerifier [0x00659794+2727300]\n\tGetHandleVerifier [0x0065E36C+2746716]\n\tGetHandleVerifier [0x00456690+617600]\n\t(No symbol) [0x0034C712]\n\t(No symbol) [0x00351FF8]\n\t(No symbol) [0x003520DB]\n\t(No symbol) [0x0035C63B]\n\tBaseThreadInitThunk [0x75C27D69+25]\n\tRtlInitializeExceptionChain [0x76FBB74B+107]\n\tRtlClearBits [0x76FBB6CF+191]\n",
     "output_type": "error",
     "traceback": [
      "\u001b[1;31m---------------------------------------------------------------------------\u001b[0m",
      "\u001b[1;31mStaleElementReferenceException\u001b[0m            Traceback (most recent call last)",
      "Cell \u001b[1;32mIn [103], line 2\u001b[0m\n\u001b[0;32m      1\u001b[0m \u001b[38;5;28;01mfor\u001b[39;00m label, field \u001b[38;5;129;01min\u001b[39;00m \u001b[38;5;28mzip\u001b[39m(labels, fields):\n\u001b[1;32m----> 2\u001b[0m     \u001b[43mlabel\u001b[49m\u001b[38;5;241;43m.\u001b[39;49m\u001b[43mclick\u001b[49m\u001b[43m(\u001b[49m\u001b[43m)\u001b[49m\n",
      "File \u001b[1;32m~\\anaconda3\\lib\\site-packages\\selenium\\webdriver\\remote\\webelement.py:93\u001b[0m, in \u001b[0;36mWebElement.click\u001b[1;34m(self)\u001b[0m\n\u001b[0;32m     91\u001b[0m \u001b[38;5;28;01mdef\u001b[39;00m \u001b[38;5;21mclick\u001b[39m(\u001b[38;5;28mself\u001b[39m) \u001b[38;5;241m-\u001b[39m\u001b[38;5;241m>\u001b[39m \u001b[38;5;28;01mNone\u001b[39;00m:\n\u001b[0;32m     92\u001b[0m     \u001b[38;5;124;03m\"\"\"Clicks the element.\"\"\"\u001b[39;00m\n\u001b[1;32m---> 93\u001b[0m     \u001b[38;5;28;43mself\u001b[39;49m\u001b[38;5;241;43m.\u001b[39;49m\u001b[43m_execute\u001b[49m\u001b[43m(\u001b[49m\u001b[43mCommand\u001b[49m\u001b[38;5;241;43m.\u001b[39;49m\u001b[43mCLICK_ELEMENT\u001b[49m\u001b[43m)\u001b[49m\n",
      "File \u001b[1;32m~\\anaconda3\\lib\\site-packages\\selenium\\webdriver\\remote\\webelement.py:410\u001b[0m, in \u001b[0;36mWebElement._execute\u001b[1;34m(self, command, params)\u001b[0m\n\u001b[0;32m    408\u001b[0m     params \u001b[38;5;241m=\u001b[39m {}\n\u001b[0;32m    409\u001b[0m params[\u001b[38;5;124m\"\u001b[39m\u001b[38;5;124mid\u001b[39m\u001b[38;5;124m\"\u001b[39m] \u001b[38;5;241m=\u001b[39m \u001b[38;5;28mself\u001b[39m\u001b[38;5;241m.\u001b[39m_id\n\u001b[1;32m--> 410\u001b[0m \u001b[38;5;28;01mreturn\u001b[39;00m \u001b[38;5;28;43mself\u001b[39;49m\u001b[38;5;241;43m.\u001b[39;49m\u001b[43m_parent\u001b[49m\u001b[38;5;241;43m.\u001b[39;49m\u001b[43mexecute\u001b[49m\u001b[43m(\u001b[49m\u001b[43mcommand\u001b[49m\u001b[43m,\u001b[49m\u001b[43m \u001b[49m\u001b[43mparams\u001b[49m\u001b[43m)\u001b[49m\n",
      "File \u001b[1;32m~\\anaconda3\\lib\\site-packages\\selenium\\webdriver\\remote\\webdriver.py:444\u001b[0m, in \u001b[0;36mWebDriver.execute\u001b[1;34m(self, driver_command, params)\u001b[0m\n\u001b[0;32m    442\u001b[0m response \u001b[38;5;241m=\u001b[39m \u001b[38;5;28mself\u001b[39m\u001b[38;5;241m.\u001b[39mcommand_executor\u001b[38;5;241m.\u001b[39mexecute(driver_command, params)\n\u001b[0;32m    443\u001b[0m \u001b[38;5;28;01mif\u001b[39;00m response:\n\u001b[1;32m--> 444\u001b[0m     \u001b[38;5;28;43mself\u001b[39;49m\u001b[38;5;241;43m.\u001b[39;49m\u001b[43merror_handler\u001b[49m\u001b[38;5;241;43m.\u001b[39;49m\u001b[43mcheck_response\u001b[49m\u001b[43m(\u001b[49m\u001b[43mresponse\u001b[49m\u001b[43m)\u001b[49m\n\u001b[0;32m    445\u001b[0m     response[\u001b[38;5;124m\"\u001b[39m\u001b[38;5;124mvalue\u001b[39m\u001b[38;5;124m\"\u001b[39m] \u001b[38;5;241m=\u001b[39m \u001b[38;5;28mself\u001b[39m\u001b[38;5;241m.\u001b[39m_unwrap_value(response\u001b[38;5;241m.\u001b[39mget(\u001b[38;5;124m\"\u001b[39m\u001b[38;5;124mvalue\u001b[39m\u001b[38;5;124m\"\u001b[39m, \u001b[38;5;28;01mNone\u001b[39;00m))\n\u001b[0;32m    446\u001b[0m     \u001b[38;5;28;01mreturn\u001b[39;00m response\n",
      "File \u001b[1;32m~\\anaconda3\\lib\\site-packages\\selenium\\webdriver\\remote\\errorhandler.py:249\u001b[0m, in \u001b[0;36mErrorHandler.check_response\u001b[1;34m(self, response)\u001b[0m\n\u001b[0;32m    247\u001b[0m         alert_text \u001b[38;5;241m=\u001b[39m value[\u001b[38;5;124m\"\u001b[39m\u001b[38;5;124malert\u001b[39m\u001b[38;5;124m\"\u001b[39m]\u001b[38;5;241m.\u001b[39mget(\u001b[38;5;124m\"\u001b[39m\u001b[38;5;124mtext\u001b[39m\u001b[38;5;124m\"\u001b[39m)\n\u001b[0;32m    248\u001b[0m     \u001b[38;5;28;01mraise\u001b[39;00m exception_class(message, screen, stacktrace, alert_text)  \u001b[38;5;66;03m# type: ignore[call-arg]  # mypy is not smart enough here\u001b[39;00m\n\u001b[1;32m--> 249\u001b[0m \u001b[38;5;28;01mraise\u001b[39;00m exception_class(message, screen, stacktrace)\n",
      "\u001b[1;31mStaleElementReferenceException\u001b[0m: Message: stale element reference: element is not attached to the page document\n  (Session info: chrome=111.0.5563.65)\nStacktrace:\nBacktrace:\n\t(No symbol) [0x003ADCE3]\n\t(No symbol) [0x003439D1]\n\t(No symbol) [0x00254DA8]\n\t(No symbol) [0x002576FB]\n\t(No symbol) [0x002575D0]\n\t(No symbol) [0x00257850]\n\t(No symbol) [0x002816CD]\n\t(No symbol) [0x00278B4D]\n\t(No symbol) [0x0029AECC]\n\t(No symbol) [0x00278726]\n\t(No symbol) [0x0029B224]\n\t(No symbol) [0x002AD57C]\n\t(No symbol) [0x0029ACC6]\n\t(No symbol) [0x00276F68]\n\t(No symbol) [0x002780CD]\n\tGetHandleVerifier [0x00623832+2506274]\n\tGetHandleVerifier [0x00659794+2727300]\n\tGetHandleVerifier [0x0065E36C+2746716]\n\tGetHandleVerifier [0x00456690+617600]\n\t(No symbol) [0x0034C712]\n\t(No symbol) [0x00351FF8]\n\t(No symbol) [0x003520DB]\n\t(No symbol) [0x0035C63B]\n\tBaseThreadInitThunk [0x75C27D69+25]\n\tRtlInitializeExceptionChain [0x76FBB74B+107]\n\tRtlClearBits [0x76FBB6CF+191]\n"
     ]
    }
   ],
   "source": [
    "for label, field in zip(labels, fields):\n",
    "    label.click()\n",
    "    \n",
    "#     if 'Name' in label.text:\n",
    "#         if 'First' in label.text:\n",
    "#             box.send_keys('John')\n",
    "#         elif 'Last' in label.text:\n",
    "#             box.send_keys('Harrigan\n",
    "#         field.send_keys('ooharrigan@gmail.com')\n",
    "                          \n",
    "#     elif 'Phone' in label.text:\n",
    "#         field.send_keys('2015391077')\n",
    "                          \n",
    "#     elif 'Address' in label.text:\n",
    "#         field.send_keys('147 Lenox Terrace')\n",
    "                          \n",
    "#     elif 'City' in label.text:\n",
    "#         field.send_keys('Maplewood')\n",
    "                          \n",
    "#     elif 'Zip' in label.text:\n",
    "#         field.send_keys('07040')"
   ]
  },
  {
   "cell_type": "code",
   "execution_count": 102,
   "id": "ccc53dae",
   "metadata": {},
   "outputs": [],
   "source": [
    "labels[4].click()"
   ]
  },
  {
   "cell_type": "code",
   "execution_count": 68,
   "id": "329d7846",
   "metadata": {},
   "outputs": [
    {
     "data": {
      "text/plain": [
       "'Preferred First Name'"
      ]
     },
     "execution_count": 68,
     "metadata": {},
     "output_type": "execute_result"
    }
   ],
   "source": [
    "fields[1].find_element(By.XPATH, \"//label/following-sibling::input\")"
   ]
  },
  {
   "cell_type": "code",
   "execution_count": 128,
   "id": "407a96f2",
   "metadata": {},
   "outputs": [],
   "source": [
    "bad = labels[8].find_elements(By.XPATH, \"//label/following-sibling::span\")"
   ]
  },
  {
   "cell_type": "code",
   "execution_count": 131,
   "id": "f9ffc8fb",
   "metadata": {},
   "outputs": [
    {
     "data": {
      "text/plain": [
       "'select2 select2-container select2-container--yello1 select2-container--above select2-container--focus'"
      ]
     },
     "execution_count": 131,
     "metadata": {},
     "output_type": "execute_result"
    }
   ],
   "source": [
    "bad[2].get_attribute('class')"
   ]
  },
  {
   "cell_type": "code",
   "execution_count": 132,
   "id": "3163365f",
   "metadata": {},
   "outputs": [],
   "source": [
    "driver2 = webdriver.Chrome()"
   ]
  },
  {
   "cell_type": "code",
   "execution_count": null,
   "id": "6748d7a0",
   "metadata": {},
   "outputs": [],
   "source": []
  },
  {
   "cell_type": "code",
   "execution_count": null,
   "id": "bb99c1a7",
   "metadata": {},
   "outputs": [],
   "source": []
  },
  {
   "cell_type": "code",
   "execution_count": null,
   "id": "13a6a681",
   "metadata": {},
   "outputs": [],
   "source": []
  },
  {
   "cell_type": "code",
   "execution_count": null,
   "id": "e0cb19c0",
   "metadata": {},
   "outputs": [],
   "source": []
  },
  {
   "cell_type": "code",
   "execution_count": null,
   "id": "c16bf931",
   "metadata": {},
   "outputs": [],
   "source": [
    "def workday_apply():\n",
    "    apply_button.click()\n",
    "    handles = driver.window_handles\n",
    "    driver.switch_to.window(handles[1])"
   ]
  },
  {
   "cell_type": "code",
   "execution_count": 23,
   "id": "d39a1beb",
   "metadata": {},
   "outputs": [
    {
     "data": {
      "text/plain": [
       "['E7D0122DCE50E8431816B9FDF87B6E09', '7A4D006B6087E4B3652311CD1E2A8245']"
      ]
     },
     "execution_count": 23,
     "metadata": {},
     "output_type": "execute_result"
    }
   ],
   "source": [
    "handles = driver.window_handles\n",
    "handles"
   ]
  },
  {
   "cell_type": "code",
   "execution_count": 24,
   "id": "da54b2fb",
   "metadata": {},
   "outputs": [],
   "source": [
    "driver.switch_to.window(handles[1])"
   ]
  },
  {
   "cell_type": "code",
   "execution_count": 36,
   "id": "3841bfb4",
   "metadata": {},
   "outputs": [
    {
     "name": "stdout",
     "output_type": "stream",
     "text": [
      "yes\n"
     ]
    }
   ],
   "source": [
    "if 'myworkdayjobs' in driver.current_url:\n",
    "    print('yes')"
   ]
  },
  {
   "cell_type": "code",
   "execution_count": 37,
   "id": "d2a71cc2",
   "metadata": {},
   "outputs": [],
   "source": [
    "els = driver.find_elements(By.XPATH, \"//*[contains(text(), 'Apply')]\")\n",
    "driver.find_element(By.XPATH, \"//*[contains(text(), 'Apply Manually')]\").click()"
   ]
  },
  {
   "cell_type": "code",
   "execution_count": 399,
   "id": "cae39b5d",
   "metadata": {},
   "outputs": [],
   "source": [
    "for el in els:\n",
    "    if el.text == 'Apply':\n",
    "        el.click()"
   ]
  },
  {
   "cell_type": "code",
   "execution_count": 400,
   "id": "3ec5698f",
   "metadata": {},
   "outputs": [],
   "source": [
    "driver.find_element(By.XPATH, \"//*[contains(text(), 'Apply Manually')]\").click()"
   ]
  },
  {
   "cell_type": "code",
   "execution_count": 384,
   "id": "13e89b59",
   "metadata": {},
   "outputs": [],
   "source": [
    "els = driver.find_elements(By.XPATH, \"//*[contains(text(), 'no')]\")"
   ]
  },
  {
   "cell_type": "code",
   "execution_count": 385,
   "id": "c98b8eb1",
   "metadata": {},
   "outputs": [
    {
     "data": {
      "text/plain": [
       "[<selenium.webdriver.remote.webelement.WebElement (session=\"59752e9e0731ce3822dabf66a4c95847\", element=\"8aba97f3-3755-4340-8b66-782525758a79\")>,\n",
       " <selenium.webdriver.remote.webelement.WebElement (session=\"59752e9e0731ce3822dabf66a4c95847\", element=\"405938f1-c76b-4eae-b08a-86acfd842398\")>,\n",
       " <selenium.webdriver.remote.webelement.WebElement (session=\"59752e9e0731ce3822dabf66a4c95847\", element=\"a7835b09-4bd6-4059-a9b2-13d51f77db74\")>,\n",
       " <selenium.webdriver.remote.webelement.WebElement (session=\"59752e9e0731ce3822dabf66a4c95847\", element=\"ce68388e-4019-4a7f-9a0c-417e2265ac8d\")>,\n",
       " <selenium.webdriver.remote.webelement.WebElement (session=\"59752e9e0731ce3822dabf66a4c95847\", element=\"51372235-34ae-41ff-be72-39eafbfc923d\")>,\n",
       " <selenium.webdriver.remote.webelement.WebElement (session=\"59752e9e0731ce3822dabf66a4c95847\", element=\"c839e5ce-3a9c-41fe-bcf4-f3c733cd7fc4\")>,\n",
       " <selenium.webdriver.remote.webelement.WebElement (session=\"59752e9e0731ce3822dabf66a4c95847\", element=\"f83fe9ec-528d-4eaf-b0fd-6d78c6e26412\")>,\n",
       " <selenium.webdriver.remote.webelement.WebElement (session=\"59752e9e0731ce3822dabf66a4c95847\", element=\"c86b06d2-301b-4029-85e1-3d3aa3674854\")>,\n",
       " <selenium.webdriver.remote.webelement.WebElement (session=\"59752e9e0731ce3822dabf66a4c95847\", element=\"b78d029f-ca1a-46c6-8d0d-109f0f99608e\")>,\n",
       " <selenium.webdriver.remote.webelement.WebElement (session=\"59752e9e0731ce3822dabf66a4c95847\", element=\"9aa9903f-eadd-46a8-945e-cf752e4f455e\")>,\n",
       " <selenium.webdriver.remote.webelement.WebElement (session=\"59752e9e0731ce3822dabf66a4c95847\", element=\"4f8419dd-8ed8-4d2d-92bd-9c2cf9315b00\")>]"
      ]
     },
     "execution_count": 385,
     "metadata": {},
     "output_type": "execute_result"
    }
   ],
   "source": [
    "els"
   ]
  },
  {
   "cell_type": "code",
   "execution_count": 342,
   "id": "fdccfb3c",
   "metadata": {},
   "outputs": [],
   "source": [
    "try: \n",
    "    app_button.click()\n",
    "except:\n",
    "    app_button.find_element(By.XPATH, '..').click()"
   ]
  },
  {
   "cell_type": "code",
   "execution_count": null,
   "id": "237a9d12",
   "metadata": {},
   "outputs": [],
   "source": []
  },
  {
   "cell_type": "code",
   "execution_count": 355,
   "id": "d072134c",
   "metadata": {},
   "outputs": [
    {
     "data": {
      "text/plain": [
       "''"
      ]
     },
     "execution_count": 355,
     "metadata": {},
     "output_type": "execute_result"
    }
   ],
   "source": [
    "app_button.get_attribute('class')"
   ]
  },
  {
   "cell_type": "code",
   "execution_count": 371,
   "id": "377d3ad9",
   "metadata": {},
   "outputs": [
    {
     "data": {
      "text/plain": [
       "'Apply for Future Consideration'"
      ]
     },
     "execution_count": 371,
     "metadata": {},
     "output_type": "execute_result"
    }
   ],
   "source": [
    "app_button[0].text"
   ]
  },
  {
   "cell_type": "code",
   "execution_count": 390,
   "id": "18bc4749",
   "metadata": {},
   "outputs": [
    {
     "data": {
      "text/plain": [
       "'https://jobs.statefarm.com/main/jobs/30290?lang=en-us&iis=LinkedIn&iisn=LinkedIn'"
      ]
     },
     "execution_count": 390,
     "metadata": {},
     "output_type": "execute_result"
    }
   ],
   "source": [
    "driver.current_url"
   ]
  },
  {
   "cell_type": "code",
   "execution_count": null,
   "id": "e95414ce",
   "metadata": {},
   "outputs": [],
   "source": []
  },
  {
   "cell_type": "code",
   "execution_count": null,
   "id": "47246017",
   "metadata": {},
   "outputs": [],
   "source": []
  },
  {
   "cell_type": "code",
   "execution_count": null,
   "id": "f4a5e1a6",
   "metadata": {},
   "outputs": [],
   "source": []
  },
  {
   "cell_type": "code",
   "execution_count": 133,
   "id": "f157ce4f",
   "metadata": {},
   "outputs": [
    {
     "ename": "NoSuchElementException",
     "evalue": "Message: no such element: Unable to locate element: {\"method\":\"css selector\",\"selector\":\".css-1n9xe37\"}\n  (Session info: chrome=111.0.5563.148)\nStacktrace:\nBacktrace:\n\t(No symbol) [0x00A2DCE3]\n\t(No symbol) [0x009C39D1]\n\t(No symbol) [0x008D4DA8]\n\t(No symbol) [0x0090019F]\n\t(No symbol) [0x009003AB]\n\t(No symbol) [0x0092EE62]\n\t(No symbol) [0x0091AF14]\n\t(No symbol) [0x0092D57C]\n\t(No symbol) [0x0091ACC6]\n\t(No symbol) [0x008F6F68]\n\t(No symbol) [0x008F80CD]\n\tGetHandleVerifier [0x00CA3832+2506274]\n\tGetHandleVerifier [0x00CD9794+2727300]\n\tGetHandleVerifier [0x00CDE36C+2746716]\n\tGetHandleVerifier [0x00AD6690+617600]\n\t(No symbol) [0x009CC712]\n\t(No symbol) [0x009D1FF8]\n\t(No symbol) [0x009D20DB]\n\t(No symbol) [0x009DC63B]\n\tBaseThreadInitThunk [0x768F7D69+25]\n\tRtlInitializeExceptionChain [0x77BDB74B+107]\n\tRtlClearBits [0x77BDB6CF+191]\n",
     "output_type": "error",
     "traceback": [
      "\u001b[1;31m---------------------------------------------------------------------------\u001b[0m",
      "\u001b[1;31mElementNotInteractableException\u001b[0m           Traceback (most recent call last)",
      "Cell \u001b[1;32mIn [132], line 9\u001b[0m, in \u001b[0;36mcreate_account\u001b[1;34m(driver)\u001b[0m\n\u001b[0;32m      8\u001b[0m \u001b[38;5;28;01mtry\u001b[39;00m:\n\u001b[1;32m----> 9\u001b[0m     \u001b[43mdriver\u001b[49m\u001b[38;5;241;43m.\u001b[39;49m\u001b[43mfind_element\u001b[49m\u001b[43m(\u001b[49m\u001b[43mBy\u001b[49m\u001b[38;5;241;43m.\u001b[39;49m\u001b[43mXPATH\u001b[49m\u001b[43m,\u001b[49m\u001b[43m \u001b[49m\u001b[38;5;124;43m\"\u001b[39;49m\u001b[38;5;124;43m//*[contains(text(), \u001b[39;49m\u001b[38;5;124;43m'\u001b[39;49m\u001b[38;5;124;43mCreate Account\u001b[39;49m\u001b[38;5;124;43m'\u001b[39;49m\u001b[38;5;124;43m)]\u001b[39;49m\u001b[38;5;124;43m\"\u001b[39;49m\u001b[43m)\u001b[49m\u001b[38;5;241;43m.\u001b[39;49m\u001b[43mclick\u001b[49m\u001b[43m(\u001b[49m\u001b[43m)\u001b[49m\n\u001b[0;32m     10\u001b[0m \u001b[38;5;28;01mexcept\u001b[39;00m:\n",
      "File \u001b[1;32m~\\anaconda3\\lib\\site-packages\\selenium\\webdriver\\remote\\webelement.py:93\u001b[0m, in \u001b[0;36mWebElement.click\u001b[1;34m(self)\u001b[0m\n\u001b[0;32m     92\u001b[0m \u001b[38;5;124;03m\"\"\"Clicks the element.\"\"\"\u001b[39;00m\n\u001b[1;32m---> 93\u001b[0m \u001b[38;5;28;43mself\u001b[39;49m\u001b[38;5;241;43m.\u001b[39;49m\u001b[43m_execute\u001b[49m\u001b[43m(\u001b[49m\u001b[43mCommand\u001b[49m\u001b[38;5;241;43m.\u001b[39;49m\u001b[43mCLICK_ELEMENT\u001b[49m\u001b[43m)\u001b[49m\n",
      "File \u001b[1;32m~\\anaconda3\\lib\\site-packages\\selenium\\webdriver\\remote\\webelement.py:410\u001b[0m, in \u001b[0;36mWebElement._execute\u001b[1;34m(self, command, params)\u001b[0m\n\u001b[0;32m    409\u001b[0m params[\u001b[38;5;124m\"\u001b[39m\u001b[38;5;124mid\u001b[39m\u001b[38;5;124m\"\u001b[39m] \u001b[38;5;241m=\u001b[39m \u001b[38;5;28mself\u001b[39m\u001b[38;5;241m.\u001b[39m_id\n\u001b[1;32m--> 410\u001b[0m \u001b[38;5;28;01mreturn\u001b[39;00m \u001b[38;5;28;43mself\u001b[39;49m\u001b[38;5;241;43m.\u001b[39;49m\u001b[43m_parent\u001b[49m\u001b[38;5;241;43m.\u001b[39;49m\u001b[43mexecute\u001b[49m\u001b[43m(\u001b[49m\u001b[43mcommand\u001b[49m\u001b[43m,\u001b[49m\u001b[43m \u001b[49m\u001b[43mparams\u001b[49m\u001b[43m)\u001b[49m\n",
      "File \u001b[1;32m~\\anaconda3\\lib\\site-packages\\selenium\\webdriver\\remote\\webdriver.py:444\u001b[0m, in \u001b[0;36mWebDriver.execute\u001b[1;34m(self, driver_command, params)\u001b[0m\n\u001b[0;32m    443\u001b[0m \u001b[38;5;28;01mif\u001b[39;00m response:\n\u001b[1;32m--> 444\u001b[0m     \u001b[38;5;28;43mself\u001b[39;49m\u001b[38;5;241;43m.\u001b[39;49m\u001b[43merror_handler\u001b[49m\u001b[38;5;241;43m.\u001b[39;49m\u001b[43mcheck_response\u001b[49m\u001b[43m(\u001b[49m\u001b[43mresponse\u001b[49m\u001b[43m)\u001b[49m\n\u001b[0;32m    445\u001b[0m     response[\u001b[38;5;124m\"\u001b[39m\u001b[38;5;124mvalue\u001b[39m\u001b[38;5;124m\"\u001b[39m] \u001b[38;5;241m=\u001b[39m \u001b[38;5;28mself\u001b[39m\u001b[38;5;241m.\u001b[39m_unwrap_value(response\u001b[38;5;241m.\u001b[39mget(\u001b[38;5;124m\"\u001b[39m\u001b[38;5;124mvalue\u001b[39m\u001b[38;5;124m\"\u001b[39m, \u001b[38;5;28;01mNone\u001b[39;00m))\n",
      "File \u001b[1;32m~\\anaconda3\\lib\\site-packages\\selenium\\webdriver\\remote\\errorhandler.py:249\u001b[0m, in \u001b[0;36mErrorHandler.check_response\u001b[1;34m(self, response)\u001b[0m\n\u001b[0;32m    248\u001b[0m     \u001b[38;5;28;01mraise\u001b[39;00m exception_class(message, screen, stacktrace, alert_text)  \u001b[38;5;66;03m# type: ignore[call-arg]  # mypy is not smart enough here\u001b[39;00m\n\u001b[1;32m--> 249\u001b[0m \u001b[38;5;28;01mraise\u001b[39;00m exception_class(message, screen, stacktrace)\n",
      "\u001b[1;31mElementNotInteractableException\u001b[0m: Message: element not interactable\n  (Session info: chrome=111.0.5563.148)\nStacktrace:\nBacktrace:\n\t(No symbol) [0x00A2DCE3]\n\t(No symbol) [0x009C39D1]\n\t(No symbol) [0x008D4C70]\n\t(No symbol) [0x009010D6]\n\t(No symbol) [0x008F8D05]\n\t(No symbol) [0x0091AECC]\n\t(No symbol) [0x008F8726]\n\t(No symbol) [0x0091B224]\n\t(No symbol) [0x0092D57C]\n\t(No symbol) [0x0091ACC6]\n\t(No symbol) [0x008F6F68]\n\t(No symbol) [0x008F80CD]\n\tGetHandleVerifier [0x00CA3832+2506274]\n\tGetHandleVerifier [0x00CD9794+2727300]\n\tGetHandleVerifier [0x00CDE36C+2746716]\n\tGetHandleVerifier [0x00AD6690+617600]\n\t(No symbol) [0x009CC712]\n\t(No symbol) [0x009D1FF8]\n\t(No symbol) [0x009D20DB]\n\t(No symbol) [0x009DC63B]\n\tBaseThreadInitThunk [0x768F7D69+25]\n\tRtlInitializeExceptionChain [0x77BDB74B+107]\n\tRtlClearBits [0x77BDB6CF+191]\n",
      "\nDuring handling of the above exception, another exception occurred:\n",
      "\u001b[1;31mNoSuchElementException\u001b[0m                    Traceback (most recent call last)",
      "Cell \u001b[1;32mIn [133], line 1\u001b[0m\n\u001b[1;32m----> 1\u001b[0m \u001b[43mcreate_account\u001b[49m\u001b[43m(\u001b[49m\u001b[43mdriver\u001b[49m\u001b[43m)\u001b[49m\n",
      "Cell \u001b[1;32mIn [132], line 11\u001b[0m, in \u001b[0;36mcreate_account\u001b[1;34m(driver)\u001b[0m\n\u001b[0;32m      9\u001b[0m     driver\u001b[38;5;241m.\u001b[39mfind_element(By\u001b[38;5;241m.\u001b[39mXPATH, \u001b[38;5;124m\"\u001b[39m\u001b[38;5;124m//*[contains(text(), \u001b[39m\u001b[38;5;124m'\u001b[39m\u001b[38;5;124mCreate Account\u001b[39m\u001b[38;5;124m'\u001b[39m\u001b[38;5;124m)]\u001b[39m\u001b[38;5;124m\"\u001b[39m)\u001b[38;5;241m.\u001b[39mclick()\n\u001b[0;32m     10\u001b[0m \u001b[38;5;28;01mexcept\u001b[39;00m:\n\u001b[1;32m---> 11\u001b[0m     \u001b[43mdriver\u001b[49m\u001b[38;5;241;43m.\u001b[39;49m\u001b[43mfind_element\u001b[49m\u001b[43m(\u001b[49m\u001b[43mBy\u001b[49m\u001b[38;5;241;43m.\u001b[39;49m\u001b[43mCLASS_NAME\u001b[49m\u001b[43m,\u001b[49m\u001b[43m \u001b[49m\u001b[38;5;124;43m'\u001b[39;49m\u001b[38;5;124;43mcss-1n9xe37\u001b[39;49m\u001b[38;5;124;43m'\u001b[39;49m\u001b[43m)\u001b[49m\u001b[38;5;241m.\u001b[39mclick()\n",
      "File \u001b[1;32m~\\anaconda3\\lib\\site-packages\\selenium\\webdriver\\remote\\webdriver.py:861\u001b[0m, in \u001b[0;36mWebDriver.find_element\u001b[1;34m(self, by, value)\u001b[0m\n\u001b[0;32m    858\u001b[0m     by \u001b[38;5;241m=\u001b[39m By\u001b[38;5;241m.\u001b[39mCSS_SELECTOR\n\u001b[0;32m    859\u001b[0m     value \u001b[38;5;241m=\u001b[39m \u001b[38;5;124m'\u001b[39m\u001b[38;5;124m[name=\u001b[39m\u001b[38;5;124m\"\u001b[39m\u001b[38;5;132;01m%s\u001b[39;00m\u001b[38;5;124m\"\u001b[39m\u001b[38;5;124m]\u001b[39m\u001b[38;5;124m'\u001b[39m \u001b[38;5;241m%\u001b[39m value\n\u001b[1;32m--> 861\u001b[0m \u001b[38;5;28;01mreturn\u001b[39;00m \u001b[38;5;28;43mself\u001b[39;49m\u001b[38;5;241;43m.\u001b[39;49m\u001b[43mexecute\u001b[49m\u001b[43m(\u001b[49m\u001b[43mCommand\u001b[49m\u001b[38;5;241;43m.\u001b[39;49m\u001b[43mFIND_ELEMENT\u001b[49m\u001b[43m,\u001b[49m\u001b[43m \u001b[49m\u001b[43m{\u001b[49m\u001b[38;5;124;43m\"\u001b[39;49m\u001b[38;5;124;43musing\u001b[39;49m\u001b[38;5;124;43m\"\u001b[39;49m\u001b[43m:\u001b[49m\u001b[43m \u001b[49m\u001b[43mby\u001b[49m\u001b[43m,\u001b[49m\u001b[43m \u001b[49m\u001b[38;5;124;43m\"\u001b[39;49m\u001b[38;5;124;43mvalue\u001b[39;49m\u001b[38;5;124;43m\"\u001b[39;49m\u001b[43m:\u001b[49m\u001b[43m \u001b[49m\u001b[43mvalue\u001b[49m\u001b[43m}\u001b[49m\u001b[43m)\u001b[49m[\u001b[38;5;124m\"\u001b[39m\u001b[38;5;124mvalue\u001b[39m\u001b[38;5;124m\"\u001b[39m]\n",
      "File \u001b[1;32m~\\anaconda3\\lib\\site-packages\\selenium\\webdriver\\remote\\webdriver.py:444\u001b[0m, in \u001b[0;36mWebDriver.execute\u001b[1;34m(self, driver_command, params)\u001b[0m\n\u001b[0;32m    442\u001b[0m response \u001b[38;5;241m=\u001b[39m \u001b[38;5;28mself\u001b[39m\u001b[38;5;241m.\u001b[39mcommand_executor\u001b[38;5;241m.\u001b[39mexecute(driver_command, params)\n\u001b[0;32m    443\u001b[0m \u001b[38;5;28;01mif\u001b[39;00m response:\n\u001b[1;32m--> 444\u001b[0m     \u001b[38;5;28;43mself\u001b[39;49m\u001b[38;5;241;43m.\u001b[39;49m\u001b[43merror_handler\u001b[49m\u001b[38;5;241;43m.\u001b[39;49m\u001b[43mcheck_response\u001b[49m\u001b[43m(\u001b[49m\u001b[43mresponse\u001b[49m\u001b[43m)\u001b[49m\n\u001b[0;32m    445\u001b[0m     response[\u001b[38;5;124m\"\u001b[39m\u001b[38;5;124mvalue\u001b[39m\u001b[38;5;124m\"\u001b[39m] \u001b[38;5;241m=\u001b[39m \u001b[38;5;28mself\u001b[39m\u001b[38;5;241m.\u001b[39m_unwrap_value(response\u001b[38;5;241m.\u001b[39mget(\u001b[38;5;124m\"\u001b[39m\u001b[38;5;124mvalue\u001b[39m\u001b[38;5;124m\"\u001b[39m, \u001b[38;5;28;01mNone\u001b[39;00m))\n\u001b[0;32m    446\u001b[0m     \u001b[38;5;28;01mreturn\u001b[39;00m response\n",
      "File \u001b[1;32m~\\anaconda3\\lib\\site-packages\\selenium\\webdriver\\remote\\errorhandler.py:249\u001b[0m, in \u001b[0;36mErrorHandler.check_response\u001b[1;34m(self, response)\u001b[0m\n\u001b[0;32m    247\u001b[0m         alert_text \u001b[38;5;241m=\u001b[39m value[\u001b[38;5;124m\"\u001b[39m\u001b[38;5;124malert\u001b[39m\u001b[38;5;124m\"\u001b[39m]\u001b[38;5;241m.\u001b[39mget(\u001b[38;5;124m\"\u001b[39m\u001b[38;5;124mtext\u001b[39m\u001b[38;5;124m\"\u001b[39m)\n\u001b[0;32m    248\u001b[0m     \u001b[38;5;28;01mraise\u001b[39;00m exception_class(message, screen, stacktrace, alert_text)  \u001b[38;5;66;03m# type: ignore[call-arg]  # mypy is not smart enough here\u001b[39;00m\n\u001b[1;32m--> 249\u001b[0m \u001b[38;5;28;01mraise\u001b[39;00m exception_class(message, screen, stacktrace)\n",
      "\u001b[1;31mNoSuchElementException\u001b[0m: Message: no such element: Unable to locate element: {\"method\":\"css selector\",\"selector\":\".css-1n9xe37\"}\n  (Session info: chrome=111.0.5563.148)\nStacktrace:\nBacktrace:\n\t(No symbol) [0x00A2DCE3]\n\t(No symbol) [0x009C39D1]\n\t(No symbol) [0x008D4DA8]\n\t(No symbol) [0x0090019F]\n\t(No symbol) [0x009003AB]\n\t(No symbol) [0x0092EE62]\n\t(No symbol) [0x0091AF14]\n\t(No symbol) [0x0092D57C]\n\t(No symbol) [0x0091ACC6]\n\t(No symbol) [0x008F6F68]\n\t(No symbol) [0x008F80CD]\n\tGetHandleVerifier [0x00CA3832+2506274]\n\tGetHandleVerifier [0x00CD9794+2727300]\n\tGetHandleVerifier [0x00CDE36C+2746716]\n\tGetHandleVerifier [0x00AD6690+617600]\n\t(No symbol) [0x009CC712]\n\t(No symbol) [0x009D1FF8]\n\t(No symbol) [0x009D20DB]\n\t(No symbol) [0x009DC63B]\n\tBaseThreadInitThunk [0x768F7D69+25]\n\tRtlInitializeExceptionChain [0x77BDB74B+107]\n\tRtlClearBits [0x77BDB6CF+191]\n"
     ]
    }
   ],
   "source": [
    "create_account(driver)"
   ]
  },
  {
   "cell_type": "code",
   "execution_count": null,
   "id": "0f28caac",
   "metadata": {},
   "outputs": [],
   "source": [
    "def login(driver):\n",
    "    "
   ]
  },
  {
   "cell_type": "code",
   "execution_count": 132,
   "id": "1911de74",
   "metadata": {},
   "outputs": [],
   "source": [
    "def create_account(driver):\n",
    "    driver.find_element(By.CSS_SELECTOR, \".css-14pfav7[data-automation-id='createAccountLink']\").click()\n",
    "    driver.find_element(By.ID, 'input-6').send_keys('jack.l.harrigan@gmail.com')\n",
    "    driver.find_element(By.ID, 'input-7').click()\n",
    "    driver.find_element(By.ID, 'input-7').send_keys('Johnjohn1776!')\n",
    "    driver.find_element(By.ID, 'input-8').click()\n",
    "    driver.find_element(By.ID, 'input-8').send_keys('Johnjohn1776!')\n",
    "    try:\n",
    "        driver.find_element(By.XPATH, \"//*[contains(text(), 'Create Account')]\").click()\n",
    "    except:\n",
    "        driver.find_element(By.CLASS_NAME, 'css-1n9xe37').click()"
   ]
  },
  {
   "cell_type": "code",
   "execution_count": 324,
   "id": "4308c9de",
   "metadata": {},
   "outputs": [],
   "source": [
    "fields = driver.find_element(By.XPATH, '//*[@id=\"mainContent\"]/div/div[3]/div[2]').find_elements(By.XPATH, '*')"
   ]
  },
  {
   "cell_type": "code",
   "execution_count": 325,
   "id": "422845e0",
   "metadata": {
    "collapsed": true
   },
   "outputs": [
    {
     "ename": "ElementClickInterceptedException",
     "evalue": "Message: element click intercepted: Element <input type=\"text\" data-automation-id=\"addressSection_addressLine1\" id=\"input-6\" aria-required=\"false\" class=\"css-ilrio6\" value=\"\"> is not clickable at point (332, 785). Other element would receive the click: <div class=\"css-poz4k7\">...</div>\n  (Session info: chrome=111.0.5563.64)\nStacktrace:\nBacktrace:\n\t(No symbol) [0x00E5DCE3]\n\t(No symbol) [0x00DF39D1]\n\t(No symbol) [0x00D04DA8]\n\t(No symbol) [0x00D352EA]\n\t(No symbol) [0x00D33BBA]\n\t(No symbol) [0x00D31EFB]\n\t(No symbol) [0x00D31027]\n\t(No symbol) [0x00D28D05]\n\t(No symbol) [0x00D4AECC]\n\t(No symbol) [0x00D28726]\n\t(No symbol) [0x00D4B224]\n\t(No symbol) [0x00D5D57C]\n\t(No symbol) [0x00D4ACC6]\n\t(No symbol) [0x00D26F68]\n\t(No symbol) [0x00D280CD]\n\tGetHandleVerifier [0x010D3832+2506274]\n\tGetHandleVerifier [0x01109794+2727300]\n\tGetHandleVerifier [0x0110E36C+2746716]\n\tGetHandleVerifier [0x00F06690+617600]\n\t(No symbol) [0x00DFC712]\n\t(No symbol) [0x00E01FF8]\n\t(No symbol) [0x00E020DB]\n\t(No symbol) [0x00E0C63B]\n\tBaseThreadInitThunk [0x768B7D69+25]\n\tRtlInitializeExceptionChain [0x77A9BB9B+107]\n\tRtlClearBits [0x77A9BB1F+191]\n",
     "output_type": "error",
     "traceback": [
      "\u001b[1;31m---------------------------------------------------------------------------\u001b[0m",
      "\u001b[1;31mElementClickInterceptedException\u001b[0m          Traceback (most recent call last)",
      "Cell \u001b[1;32mIn [325], line 12\u001b[0m\n\u001b[0;32m      9\u001b[0m \u001b[38;5;28;01melif\u001b[39;00m \u001b[38;5;124m'\u001b[39m\u001b[38;5;124mAddress\u001b[39m\u001b[38;5;124m'\u001b[39m \u001b[38;5;129;01min\u001b[39;00m field\u001b[38;5;241m.\u001b[39mtext:\n\u001b[0;32m     10\u001b[0m     ad_fields \u001b[38;5;241m=\u001b[39m field\u001b[38;5;241m.\u001b[39mfind_elements(By\u001b[38;5;241m.\u001b[39mXPATH, \u001b[38;5;124m'\u001b[39m\u001b[38;5;124m*\u001b[39m\u001b[38;5;124m'\u001b[39m)\n\u001b[1;32m---> 12\u001b[0m     \u001b[43mad_fields\u001b[49m\u001b[43m[\u001b[49m\u001b[38;5;241;43m1\u001b[39;49m\u001b[43m]\u001b[49m\u001b[38;5;241;43m.\u001b[39;49m\u001b[43mfind_element\u001b[49m\u001b[43m(\u001b[49m\u001b[43mBy\u001b[49m\u001b[38;5;241;43m.\u001b[39;49m\u001b[43mCSS_SELECTOR\u001b[49m\u001b[43m,\u001b[49m\u001b[43m \u001b[49m\u001b[38;5;124;43m\"\u001b[39;49m\u001b[38;5;124;43m.css-ilrio6[data-automation-id=\u001b[39;49m\u001b[38;5;124;43m'\u001b[39;49m\u001b[38;5;124;43maddressSection_addressLine1\u001b[39;49m\u001b[38;5;124;43m'\u001b[39;49m\u001b[38;5;124;43m]\u001b[39;49m\u001b[38;5;124;43m\"\u001b[39;49m\u001b[43m)\u001b[49m\u001b[38;5;241;43m.\u001b[39;49m\u001b[43mclick\u001b[49m\u001b[43m(\u001b[49m\u001b[43m)\u001b[49m\n\u001b[0;32m     13\u001b[0m     ad_fields[\u001b[38;5;241m1\u001b[39m]\u001b[38;5;241m.\u001b[39mfind_element(By\u001b[38;5;241m.\u001b[39mCSS_SELECTOR, \u001b[38;5;124m\"\u001b[39m\u001b[38;5;124m.css-ilrio6[data-automation-id=\u001b[39m\u001b[38;5;124m'\u001b[39m\u001b[38;5;124maddressSection_addressLine1\u001b[39m\u001b[38;5;124m'\u001b[39m\u001b[38;5;124m]\u001b[39m\u001b[38;5;124m\"\u001b[39m)\u001b[38;5;241m.\u001b[39msend_keys(\u001b[38;5;124m'\u001b[39m\u001b[38;5;124m147 Lenox Terrace\u001b[39m\u001b[38;5;124m'\u001b[39m)\n\u001b[0;32m     15\u001b[0m     ad_fields[\u001b[38;5;241m2\u001b[39m]\u001b[38;5;241m.\u001b[39mfind_element(By\u001b[38;5;241m.\u001b[39mCSS_SELECTOR, \u001b[38;5;124m\"\u001b[39m\u001b[38;5;124m.css-ilrio6[data-automation-id=\u001b[39m\u001b[38;5;124m'\u001b[39m\u001b[38;5;124maddressSection_city\u001b[39m\u001b[38;5;124m'\u001b[39m\u001b[38;5;124m]\u001b[39m\u001b[38;5;124m\"\u001b[39m)\u001b[38;5;241m.\u001b[39mclick()\n",
      "File \u001b[1;32m~\\anaconda3\\lib\\site-packages\\selenium\\webdriver\\remote\\webelement.py:93\u001b[0m, in \u001b[0;36mWebElement.click\u001b[1;34m(self)\u001b[0m\n\u001b[0;32m     91\u001b[0m \u001b[38;5;28;01mdef\u001b[39;00m \u001b[38;5;21mclick\u001b[39m(\u001b[38;5;28mself\u001b[39m) \u001b[38;5;241m-\u001b[39m\u001b[38;5;241m>\u001b[39m \u001b[38;5;28;01mNone\u001b[39;00m:\n\u001b[0;32m     92\u001b[0m     \u001b[38;5;124;03m\"\"\"Clicks the element.\"\"\"\u001b[39;00m\n\u001b[1;32m---> 93\u001b[0m     \u001b[38;5;28;43mself\u001b[39;49m\u001b[38;5;241;43m.\u001b[39;49m\u001b[43m_execute\u001b[49m\u001b[43m(\u001b[49m\u001b[43mCommand\u001b[49m\u001b[38;5;241;43m.\u001b[39;49m\u001b[43mCLICK_ELEMENT\u001b[49m\u001b[43m)\u001b[49m\n",
      "File \u001b[1;32m~\\anaconda3\\lib\\site-packages\\selenium\\webdriver\\remote\\webelement.py:410\u001b[0m, in \u001b[0;36mWebElement._execute\u001b[1;34m(self, command, params)\u001b[0m\n\u001b[0;32m    408\u001b[0m     params \u001b[38;5;241m=\u001b[39m {}\n\u001b[0;32m    409\u001b[0m params[\u001b[38;5;124m\"\u001b[39m\u001b[38;5;124mid\u001b[39m\u001b[38;5;124m\"\u001b[39m] \u001b[38;5;241m=\u001b[39m \u001b[38;5;28mself\u001b[39m\u001b[38;5;241m.\u001b[39m_id\n\u001b[1;32m--> 410\u001b[0m \u001b[38;5;28;01mreturn\u001b[39;00m \u001b[38;5;28;43mself\u001b[39;49m\u001b[38;5;241;43m.\u001b[39;49m\u001b[43m_parent\u001b[49m\u001b[38;5;241;43m.\u001b[39;49m\u001b[43mexecute\u001b[49m\u001b[43m(\u001b[49m\u001b[43mcommand\u001b[49m\u001b[43m,\u001b[49m\u001b[43m \u001b[49m\u001b[43mparams\u001b[49m\u001b[43m)\u001b[49m\n",
      "File \u001b[1;32m~\\anaconda3\\lib\\site-packages\\selenium\\webdriver\\remote\\webdriver.py:444\u001b[0m, in \u001b[0;36mWebDriver.execute\u001b[1;34m(self, driver_command, params)\u001b[0m\n\u001b[0;32m    442\u001b[0m response \u001b[38;5;241m=\u001b[39m \u001b[38;5;28mself\u001b[39m\u001b[38;5;241m.\u001b[39mcommand_executor\u001b[38;5;241m.\u001b[39mexecute(driver_command, params)\n\u001b[0;32m    443\u001b[0m \u001b[38;5;28;01mif\u001b[39;00m response:\n\u001b[1;32m--> 444\u001b[0m     \u001b[38;5;28;43mself\u001b[39;49m\u001b[38;5;241;43m.\u001b[39;49m\u001b[43merror_handler\u001b[49m\u001b[38;5;241;43m.\u001b[39;49m\u001b[43mcheck_response\u001b[49m\u001b[43m(\u001b[49m\u001b[43mresponse\u001b[49m\u001b[43m)\u001b[49m\n\u001b[0;32m    445\u001b[0m     response[\u001b[38;5;124m\"\u001b[39m\u001b[38;5;124mvalue\u001b[39m\u001b[38;5;124m\"\u001b[39m] \u001b[38;5;241m=\u001b[39m \u001b[38;5;28mself\u001b[39m\u001b[38;5;241m.\u001b[39m_unwrap_value(response\u001b[38;5;241m.\u001b[39mget(\u001b[38;5;124m\"\u001b[39m\u001b[38;5;124mvalue\u001b[39m\u001b[38;5;124m\"\u001b[39m, \u001b[38;5;28;01mNone\u001b[39;00m))\n\u001b[0;32m    446\u001b[0m     \u001b[38;5;28;01mreturn\u001b[39;00m response\n",
      "File \u001b[1;32m~\\anaconda3\\lib\\site-packages\\selenium\\webdriver\\remote\\errorhandler.py:249\u001b[0m, in \u001b[0;36mErrorHandler.check_response\u001b[1;34m(self, response)\u001b[0m\n\u001b[0;32m    247\u001b[0m         alert_text \u001b[38;5;241m=\u001b[39m value[\u001b[38;5;124m\"\u001b[39m\u001b[38;5;124malert\u001b[39m\u001b[38;5;124m\"\u001b[39m]\u001b[38;5;241m.\u001b[39mget(\u001b[38;5;124m\"\u001b[39m\u001b[38;5;124mtext\u001b[39m\u001b[38;5;124m\"\u001b[39m)\n\u001b[0;32m    248\u001b[0m     \u001b[38;5;28;01mraise\u001b[39;00m exception_class(message, screen, stacktrace, alert_text)  \u001b[38;5;66;03m# type: ignore[call-arg]  # mypy is not smart enough here\u001b[39;00m\n\u001b[1;32m--> 249\u001b[0m \u001b[38;5;28;01mraise\u001b[39;00m exception_class(message, screen, stacktrace)\n",
      "\u001b[1;31mElementClickInterceptedException\u001b[0m: Message: element click intercepted: Element <input type=\"text\" data-automation-id=\"addressSection_addressLine1\" id=\"input-6\" aria-required=\"false\" class=\"css-ilrio6\" value=\"\"> is not clickable at point (332, 785). Other element would receive the click: <div class=\"css-poz4k7\">...</div>\n  (Session info: chrome=111.0.5563.64)\nStacktrace:\nBacktrace:\n\t(No symbol) [0x00E5DCE3]\n\t(No symbol) [0x00DF39D1]\n\t(No symbol) [0x00D04DA8]\n\t(No symbol) [0x00D352EA]\n\t(No symbol) [0x00D33BBA]\n\t(No symbol) [0x00D31EFB]\n\t(No symbol) [0x00D31027]\n\t(No symbol) [0x00D28D05]\n\t(No symbol) [0x00D4AECC]\n\t(No symbol) [0x00D28726]\n\t(No symbol) [0x00D4B224]\n\t(No symbol) [0x00D5D57C]\n\t(No symbol) [0x00D4ACC6]\n\t(No symbol) [0x00D26F68]\n\t(No symbol) [0x00D280CD]\n\tGetHandleVerifier [0x010D3832+2506274]\n\tGetHandleVerifier [0x01109794+2727300]\n\tGetHandleVerifier [0x0110E36C+2746716]\n\tGetHandleVerifier [0x00F06690+617600]\n\t(No symbol) [0x00DFC712]\n\t(No symbol) [0x00E01FF8]\n\t(No symbol) [0x00E020DB]\n\t(No symbol) [0x00E0C63B]\n\tBaseThreadInitThunk [0x768B7D69+25]\n\tRtlInitializeExceptionChain [0x77A9BB9B+107]\n\tRtlClearBits [0x77A9BB1F+191]\n"
     ]
    }
   ],
   "source": [
    "for field in fields:\n",
    "    if 'Have you worked' in field.text:\n",
    "        field.find_element(By.ID , '2').click()\n",
    "    elif 'Legal Name' in field.text:\n",
    "        field.find_element(By.CSS_SELECTOR, \".css-ilrio6[data-automation-id='legalNameSection_firstName']\").click()\n",
    "        field.find_element(By.CSS_SELECTOR, \".css-ilrio6[data-automation-id='legalNameSection_firstName']\").send_keys('John')\n",
    "        field.find_element(By.CSS_SELECTOR, \".css-ilrio6[data-automation-id='legalNameSection_lastName']\").click()\n",
    "        field.find_element(By.CSS_SELECTOR, \".css-ilrio6[data-automation-id='legalNameSection_lastName']\").send_keys('Harrigan')\n",
    "    elif 'Address' in field.text:\n",
    "        ad_fields = field.find_elements(By.XPATH, '*')\n",
    "        \n",
    "        ad_field.find_element(By.CSS_SELECTOR, \".css-ilrio6[data-automation-id='addressSection_addressLine1']\").click()\n",
    "        ad_field.find_element(By.CSS_SELECTOR, \".css-ilrio6[data-automation-id='addressSection_addressLine1']\").send_keys('147 Lenox Terrace')\n",
    "        \n",
    "        ad_field.find_element(By.CSS_SELECTOR, \".css-ilrio6[data-automation-id='addressSection_city']\").click()\n",
    "        ad_field.find_element(By.CSS_SELECTOR, \".css-ilrio6[data-automation-id='addressSection_city']\").send_keys('Maplewood')\n",
    "        \n",
    "        ad_field.click()\n",
    "        states = driver.find_element(By.CSS_SELECTOR, \".css-18ub1qj[role='listbox']\").find_elements(By.TAG_NAME, 'li')\n",
    "        for state in states:\n",
    "            if state.text == 'New Jersey':\n",
    "                state.click()\n",
    "                break\n",
    "        \n",
    "        ad_field.find_element(By.CSS_SELECTOR, \".css-ilrio6[data-automation-id='addressSection_postalCode']\").click()\n",
    "        ad_field.find_element(By.CSS_SELECTOR, \".css-ilrio6[data-automation-id='addressSection_postalCode']\").send_keys('07040')"
   ]
  },
  {
   "cell_type": "code",
   "execution_count": 280,
   "id": "b3e5bdbc",
   "metadata": {},
   "outputs": [],
   "source": [
    "fields[0].find_element(By.ID , '2').click()"
   ]
  },
  {
   "cell_type": "code",
   "execution_count": 274,
   "id": "7f300828",
   "metadata": {},
   "outputs": [
    {
     "data": {
      "text/plain": [
       "'Address\\nAddress Line 1\\nCity\\nState\\nselect one\\nPostal Code'"
      ]
     },
     "execution_count": 274,
     "metadata": {},
     "output_type": "execute_result"
    }
   ],
   "source": [
    "fields[5].text"
   ]
  },
  {
   "cell_type": "code",
   "execution_count": 279,
   "id": "0aba6fc6",
   "metadata": {},
   "outputs": [],
   "source": [
    "ad_fields = fields[5].find_elements(By.XPATH, '*')"
   ]
  },
  {
   "cell_type": "code",
   "execution_count": 287,
   "id": "354014b0",
   "metadata": {},
   "outputs": [],
   "source": [
    "ad_fields[1].find_element(By.CSS_SELECTOR, \".css-ilrio6[data-automation-id='addressSection_addressLine1']\").click()\n",
    "ad_fields[1].find_element(By.CSS_SELECTOR, \".css-ilrio6[data-automation-id='addressSection_addressLine1']\").send_keys('147 Lenox Terrace')"
   ]
  },
  {
   "cell_type": "code",
   "execution_count": 290,
   "id": "964fabbc",
   "metadata": {},
   "outputs": [],
   "source": [
    "ad_fields[2].find_element(By.CSS_SELECTOR, \".css-ilrio6[data-automation-id='addressSection_city']\").click()\n",
    "ad_fields[2].find_element(By.CSS_SELECTOR, \".css-ilrio6[data-automation-id='addressSection_city']\").send_keys('Maplewood')"
   ]
  },
  {
   "cell_type": "code",
   "execution_count": 317,
   "id": "f86b85ec",
   "metadata": {},
   "outputs": [],
   "source": [
    "ad_fields[3].click()\n",
    "states = driver.find_element(By.CSS_SELECTOR, \".css-18ub1qj[role='listbox']\").find_elements(By.TAG_NAME, 'li')\n",
    "for state in states:\n",
    "    if state.text == 'New Jersey':\n",
    "        state.click()\n",
    "        break"
   ]
  },
  {
   "cell_type": "code",
   "execution_count": 318,
   "id": "58f181cb",
   "metadata": {},
   "outputs": [],
   "source": [
    "states = driver.find_element(By.CSS_SELECTOR, \".css-18ub1qj[role='listbox']\").find_elements(By.TAG_NAME, 'li')\n",
    "for state in states:\n",
    "    if state.text == 'New Jersey':\n",
    "        state.click()\n",
    "        break"
   ]
  },
  {
   "cell_type": "code",
   "execution_count": null,
   "id": "ddcecb03",
   "metadata": {},
   "outputs": [],
   "source": []
  },
  {
   "cell_type": "code",
   "execution_count": 320,
   "id": "c99c1552",
   "metadata": {},
   "outputs": [
    {
     "data": {
      "text/plain": [
       "'Postal Code'"
      ]
     },
     "execution_count": 320,
     "metadata": {},
     "output_type": "execute_result"
    }
   ],
   "source": [
    "ad_fields[4].text"
   ]
  },
  {
   "cell_type": "code",
   "execution_count": 321,
   "id": "9f28c112",
   "metadata": {},
   "outputs": [],
   "source": [
    "ad_fields[4].find_element(By.CSS_SELECTOR, \".css-ilrio6[data-automation-id='addressSection_postalCode']\").click()\n",
    "ad_fields[4].find_element(By.CSS_SELECTOR, \".css-ilrio6[data-automation-id='addressSection_postalCode']\").send_keys('07040')"
   ]
  },
  {
   "cell_type": "code",
   "execution_count": 322,
   "id": "7686df90",
   "metadata": {},
   "outputs": [],
   "source": [
    "ad_fields[4].find_element(By.CSS_SELECTOR, \".css-ilrio6[data-automation-id='addressSection_postalCode']\").send_keys('07040')"
   ]
  },
  {
   "cell_type": "code",
   "execution_count": null,
   "id": "351d40dd",
   "metadata": {},
   "outputs": [],
   "source": []
  },
  {
   "cell_type": "code",
   "execution_count": null,
   "id": "97f085df",
   "metadata": {},
   "outputs": [],
   "source": []
  },
  {
   "cell_type": "code",
   "execution_count": null,
   "id": "c26df4da",
   "metadata": {},
   "outputs": [],
   "source": []
  },
  {
   "cell_type": "code",
   "execution_count": null,
   "id": "5e248a21",
   "metadata": {},
   "outputs": [],
   "source": []
  },
  {
   "cell_type": "code",
   "execution_count": null,
   "id": "bf6310d8",
   "metadata": {},
   "outputs": [],
   "source": []
  },
  {
   "cell_type": "code",
   "execution_count": null,
   "id": "229414e1",
   "metadata": {},
   "outputs": [],
   "source": []
  },
  {
   "cell_type": "code",
   "execution_count": null,
   "id": "5d7d6332",
   "metadata": {},
   "outputs": [],
   "source": []
  },
  {
   "cell_type": "code",
   "execution_count": null,
   "id": "0bf1700a",
   "metadata": {},
   "outputs": [],
   "source": []
  },
  {
   "cell_type": "code",
   "execution_count": null,
   "id": "28e885ff",
   "metadata": {},
   "outputs": [],
   "source": []
  },
  {
   "cell_type": "code",
   "execution_count": null,
   "id": "c0f0d8e7",
   "metadata": {},
   "outputs": [],
   "source": []
  },
  {
   "cell_type": "code",
   "execution_count": null,
   "id": "ea0cb568",
   "metadata": {},
   "outputs": [],
   "source": []
  },
  {
   "cell_type": "code",
   "execution_count": null,
   "id": "9bacc69a",
   "metadata": {},
   "outputs": [],
   "source": []
  },
  {
   "cell_type": "code",
   "execution_count": null,
   "id": "5bb5a48a",
   "metadata": {},
   "outputs": [],
   "source": []
  }
 ],
 "metadata": {
  "kernelspec": {
   "display_name": "Python 3 (ipykernel)",
   "language": "python",
   "name": "python3"
  },
  "language_info": {
   "codemirror_mode": {
    "name": "ipython",
    "version": 3
   },
   "file_extension": ".py",
   "mimetype": "text/x-python",
   "name": "python",
   "nbconvert_exporter": "python",
   "pygments_lexer": "ipython3",
   "version": "3.9.12"
  }
 },
 "nbformat": 4,
 "nbformat_minor": 5
}
