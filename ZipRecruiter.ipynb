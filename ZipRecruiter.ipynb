{
 "cells": [
  {
   "cell_type": "code",
   "execution_count": 1,
   "id": "03948e94",
   "metadata": {},
   "outputs": [],
   "source": [
    "from selenium.webdriver.support.ui import WebDriverWait\n",
    "from selenium.webdriver.support import expected_conditions as EC\n",
    "from selenium.webdriver.common.by import By\n",
    "from selenium import webdriver\n",
    "from selenium.webdriver.common.action_chains import ActionChains\n",
    "import pandas as pd\n",
    "import numpy as np\n",
    "import os\n",
    "import matplotlib.pyplot as plt\n",
    "import datetime\n",
    "import time\n",
    "import pickle\n",
    "from copy import deepcopy\n",
    "import time\n",
    "import math"
   ]
  },
  {
   "cell_type": "code",
   "execution_count": 3,
   "id": "fc39d6b2",
   "metadata": {},
   "outputs": [],
   "source": [
    "driver = webdriver.Chrome()"
   ]
  },
  {
   "cell_type": "code",
   "execution_count": 12,
   "id": "9fc86714",
   "metadata": {},
   "outputs": [],
   "source": [
    "def zip_login():\n",
    "    driver.get('https://www.ziprecruiter.com/')\n",
    "    driver.find_element(By.XPATH, \"//section[@class = 'nav sign_in_nav']\").click()\n",
    "    driver.find_element(By.XPATH, \"//input[@id = 'email']\").click()\n",
    "    driver.find_element(By.XPATH, \"//input[@id = 'email']\").send_keys('ooharrigan@gmail.com')\n",
    "    driver.find_element(By.XPATH, \"//input[@id = 'password']\").click()\n",
    "    driver.find_element(By.XPATH, \"//input[@id = 'password']\").send_keys('Valelaine24')\n",
    "    driver.find_element(By.XPATH, \"//button[@class = 'submit_button']\").click()"
   ]
  },
  {
   "cell_type": "code",
   "execution_count": 6,
   "id": "83f6e026",
   "metadata": {},
   "outputs": [],
   "source": [
    "zip_login()"
   ]
  },
  {
   "cell_type": "code",
   "execution_count": 9,
   "id": "e5b26779",
   "metadata": {},
   "outputs": [],
   "source": []
  },
  {
   "cell_type": "code",
   "execution_count": 10,
   "id": "37104056",
   "metadata": {},
   "outputs": [],
   "source": []
  },
  {
   "cell_type": "code",
   "execution_count": 11,
   "id": "7e2abcb9",
   "metadata": {},
   "outputs": [],
   "source": []
  },
  {
   "cell_type": "code",
   "execution_count": null,
   "id": "f1f90354",
   "metadata": {},
   "outputs": [],
   "source": []
  },
  {
   "cell_type": "code",
   "execution_count": null,
   "id": "1358af6c",
   "metadata": {},
   "outputs": [],
   "source": []
  },
  {
   "cell_type": "code",
   "execution_count": null,
   "id": "1356866f",
   "metadata": {},
   "outputs": [],
   "source": []
  },
  {
   "cell_type": "code",
   "execution_count": null,
   "id": "1dc90516",
   "metadata": {},
   "outputs": [],
   "source": []
  },
  {
   "cell_type": "code",
   "execution_count": null,
   "id": "9c332def",
   "metadata": {},
   "outputs": [],
   "source": []
  },
  {
   "cell_type": "code",
   "execution_count": null,
   "id": "59b2cfaf",
   "metadata": {},
   "outputs": [],
   "source": []
  },
  {
   "cell_type": "code",
   "execution_count": null,
   "id": "ca4dc44f",
   "metadata": {},
   "outputs": [],
   "source": []
  },
  {
   "cell_type": "code",
   "execution_count": null,
   "id": "baf58ee7",
   "metadata": {},
   "outputs": [],
   "source": []
  },
  {
   "cell_type": "code",
   "execution_count": null,
   "id": "f4f3a979",
   "metadata": {},
   "outputs": [],
   "source": []
  },
  {
   "cell_type": "code",
   "execution_count": null,
   "id": "5ef2eadc",
   "metadata": {},
   "outputs": [],
   "source": []
  },
  {
   "cell_type": "code",
   "execution_count": null,
   "id": "2c14986e",
   "metadata": {},
   "outputs": [],
   "source": []
  },
  {
   "cell_type": "code",
   "execution_count": null,
   "id": "9279dfcd",
   "metadata": {},
   "outputs": [],
   "source": []
  },
  {
   "cell_type": "code",
   "execution_count": null,
   "id": "54834f9d",
   "metadata": {},
   "outputs": [],
   "source": []
  },
  {
   "cell_type": "code",
   "execution_count": null,
   "id": "7228f277",
   "metadata": {},
   "outputs": [],
   "source": []
  },
  {
   "cell_type": "code",
   "execution_count": null,
   "id": "c863871b",
   "metadata": {},
   "outputs": [],
   "source": []
  },
  {
   "cell_type": "code",
   "execution_count": null,
   "id": "f16d271d",
   "metadata": {},
   "outputs": [],
   "source": []
  },
  {
   "cell_type": "code",
   "execution_count": null,
   "id": "45755be0",
   "metadata": {},
   "outputs": [],
   "source": []
  },
  {
   "cell_type": "code",
   "execution_count": null,
   "id": "bb96cac1",
   "metadata": {},
   "outputs": [],
   "source": []
  },
  {
   "cell_type": "code",
   "execution_count": 16,
   "id": "deae389e",
   "metadata": {},
   "outputs": [],
   "source": [
    "def dice_login():\n",
    "    driver.get('https://www.dice.com/register?%243p=a_google_adwords&%24always_deeplink=false&gclid=Cj0KCQjw_r6hBhDdARIsAMIDhV9vPHoiKeTOc4M5nBw9B3vhD6GAx5JanHikLSVGB3XY-0FTdX2fC3gaAhQ6EALw_wcB&gclid=Cj0KCQjw_r6hBhDdARIsAMIDhV9vPHoiKeTOc4M5nBw9B3vhD6GAx5JanHikLSVGB3XY-0FTdX2fC3gaAhQ6EALw_wcB&lpurl=https%3A%2F%2Fwww.dice.com%2Fregister%3Futm_source%3Dgoogle%26utm_medium%3Dcpc%26utm_campaign%3Db2c-brand%26utm_keyword%3Ddice%26gclsrc%3Daw.ds%26&~ad_set_id=70736557127&~campaign_id=1713747077&~channel=g&~keyword=dice&~placement&_branch_match_id=1101206532991997503&utm_source=Google%20AdWords&utm_campaign=Brand_Dice.com_General_National_Desktop&utm_medium=paid%20advertising&_branch_referrer=H4sIAAAAAAAAA72QXW%2FCIBiFf017Nz%2BKbeOSZmmtX1OzuRnjrggCFpRSAq3Mfz%2BY7i8s4eY8BzjveVnbKvPc7xOOaQ8p1RNcXvorEcmaSanp8SWIRkBlCFZNUwkKEbGNJiZ0GAmLbgYSSpV%2FlZ2QMDSssOAkm5wHq8n2bKFOWMFKkn8sTb5Zlmw%2Fvr4vGr6iuzc82sSysOMCXFmZzPPv%2BBXJBb%2BsP%2FfzAhy%2BngazHTlEpwmoUM62yTRfW2hxEQrVaZExP3oA8iCauWOt7f2WwE3tpKYVNy3VAZh1bQ1N02lMA1DeWwRR4mlNCe9qR7HCD4RRrRCvpIPHCD8dNZLkYV3ozVd3js9x0DU1GjuNXLRxIAzSKSLQ0Ba6FaSDFCRxnA6j1Bt%2FP3trmA5BOnIX7g5DUlKRVV48UjKf8Q%2B7%2FAENiYOqAAIAAA%3D%3D')\n",
    "    driver.find_elements(By.XPATH, \"//*[contains(text(), 'Login/Register')]\")[1].click()\n",
    "    driver.find_element(By.ID, 'email').click()\n",
    "    driver.find_element(By.ID, 'email').send_keys('ooharrigan@gmail.com')\n",
    "    driver.find_element(By.ID, 'password').click()\n",
    "    driver.find_element(By.ID, 'password').send_keys('Valelaine24')\n",
    "    driver.find_element(By.XPATH,\"//Button[@data-automation-id='sign-in-button']\").click()\n",
    "    driver.get('https://www.dice.com/jobs?q=data%20analyst&countryCode=US&radius=30&radiusUnit=mi&page=1&pageSize=20&filters.postedDate=ONE&filters.employmentType=FULLTIME&filters.easyApply=true&language=en&eid=S2Q_,gKQ_')\n",
    "    \n",
    "    "
   ]
  },
  {
   "cell_type": "code",
   "execution_count": 17,
   "id": "df0fc95f",
   "metadata": {},
   "outputs": [],
   "source": [
    "dice_login()"
   ]
  },
  {
   "cell_type": "code",
   "execution_count": 23,
   "id": "d640175b",
   "metadata": {},
   "outputs": [],
   "source": [
    "def dice_apply():\n",
    "    apply_button = driver.find_element(By.TAG_NAME, 'apply-button-wc')\n",
    "    if 'Easy Apply' in apply_button.text:\n",
    "        apply_button.click()\n",
    "        time.sleep(1.8)\n",
    "        for i in np.arange(0,4):\n",
    "            try:\n",
    "                driver.find_element(By.XPATH, \"//span[contains(text(), 'Next')]\").click()\n",
    "                if len(driver.find_elements(By.XPATH, \"//p[@class = 'error-text']\")) > 0:\n",
    "                    driver.find_element(By.XPATH, \"//a[@class = 'back-to-djv-link']\").click()\n",
    "                    driver.switch_to.alert.accept()\n",
    "                    break\n",
    "            except:\n",
    "                driver.find_element(By.XPATH, \"//button[@class='btn btn-primary btn-next btn-split']\").click()\n",
    "                time.sleep(0.5)\n",
    "                break"
   ]
  },
  {
   "cell_type": "code",
   "execution_count": 24,
   "id": "b0ec495c",
   "metadata": {},
   "outputs": [],
   "source": [
    "def apply_page():\n",
    "    links = []\n",
    "    for elem in driver.find_elements(By.XPATH, \"//a[@data-cy='card-title-link']\"):\n",
    "        links.append(elem.get_attribute('href'))\n",
    "\n",
    "    for link in links:\n",
    "        driver.get(link)\n",
    "        time.sleep(1.8)\n",
    "        dice_apply()\n",
    "    driver.find_element(By.XPATH, \"//a[contains(text(), 'Search')]\").click()\n",
    "    time.sleep(2)"
   ]
  },
  {
   "cell_type": "code",
   "execution_count": null,
   "id": "dffdd5b4",
   "metadata": {},
   "outputs": [
    {
     "name": "stdout",
     "output_type": "stream",
     "text": [
      "1\n",
      "2\n",
      "3\n",
      "4\n",
      "5\n"
     ]
    }
   ],
   "source": [
    "total_pages = math.ceil(int(driver.find_element(By.ID, 'totalJobCount').text) / 20)\n",
    "for i in np.arange(1,total_pages + 1):\n",
    "    print(i)\n",
    "    apply_page()\n",
    "    driver.get('https://www.dice.com/jobs?q=data%20analyst&countryCode=US&radius=30&radiusUnit=mi&page={}&pageSize=20&filters.postedDate=ONE&filters.employmentType=FULLTIME&filters.easyApply=true&language=en&eid=S2Q_,gKQ_'.format(i + 1))\n",
    "    time.sleep(2)"
   ]
  },
  {
   "cell_type": "code",
   "execution_count": null,
   "id": "5bb5a48a",
   "metadata": {},
   "outputs": [],
   "source": []
  }
 ],
 "metadata": {
  "kernelspec": {
   "display_name": "Python 3 (ipykernel)",
   "language": "python",
   "name": "python3"
  },
  "language_info": {
   "codemirror_mode": {
    "name": "ipython",
    "version": 3
   },
   "file_extension": ".py",
   "mimetype": "text/x-python",
   "name": "python",
   "nbconvert_exporter": "python",
   "pygments_lexer": "ipython3",
   "version": "3.9.12"
  }
 },
 "nbformat": 4,
 "nbformat_minor": 5
}
