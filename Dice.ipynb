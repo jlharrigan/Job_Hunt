{
 "cells": [
  {
   "cell_type": "code",
   "execution_count": 1,
   "id": "03948e94",
   "metadata": {},
   "outputs": [],
   "source": [
    "from selenium.webdriver.support.ui import WebDriverWait\n",
    "from selenium.webdriver.support import expected_conditions as EC\n",
    "from selenium.webdriver.common.by import By\n",
    "from selenium import webdriver\n",
    "from selenium.webdriver.common.action_chains import ActionChains\n",
    "import pandas as pd\n",
    "import numpy as np\n",
    "import os\n",
    "import matplotlib.pyplot as plt\n",
    "import datetime\n",
    "import time\n",
    "import pickle\n",
    "from copy import deepcopy\n",
    "import time\n",
    "import math"
   ]
  },
  {
   "cell_type": "code",
   "execution_count": 28,
   "id": "fc39d6b2",
   "metadata": {},
   "outputs": [],
   "source": [
    "driver = webdriver.Chrome()"
   ]
  },
  {
   "cell_type": "code",
   "execution_count": 29,
   "id": "deae389e",
   "metadata": {},
   "outputs": [],
   "source": [
    "def dice_login():\n",
    "    driver.get('https://www.dice.com/register?%243p=a_google_adwords&%24always_deeplink=false&gclid=Cj0KCQjw_r6hBhDdARIsAMIDhV9vPHoiKeTOc4M5nBw9B3vhD6GAx5JanHikLSVGB3XY-0FTdX2fC3gaAhQ6EALw_wcB&gclid=Cj0KCQjw_r6hBhDdARIsAMIDhV9vPHoiKeTOc4M5nBw9B3vhD6GAx5JanHikLSVGB3XY-0FTdX2fC3gaAhQ6EALw_wcB&lpurl=https%3A%2F%2Fwww.dice.com%2Fregister%3Futm_source%3Dgoogle%26utm_medium%3Dcpc%26utm_campaign%3Db2c-brand%26utm_keyword%3Ddice%26gclsrc%3Daw.ds%26&~ad_set_id=70736557127&~campaign_id=1713747077&~channel=g&~keyword=dice&~placement&_branch_match_id=1101206532991997503&utm_source=Google%20AdWords&utm_campaign=Brand_Dice.com_General_National_Desktop&utm_medium=paid%20advertising&_branch_referrer=H4sIAAAAAAAAA72QXW%2FCIBiFf017Nz%2BKbeOSZmmtX1OzuRnjrggCFpRSAq3Mfz%2BY7i8s4eY8BzjveVnbKvPc7xOOaQ8p1RNcXvorEcmaSanp8SWIRkBlCFZNUwkKEbGNJiZ0GAmLbgYSSpV%2FlZ2QMDSssOAkm5wHq8n2bKFOWMFKkn8sTb5Zlmw%2Fvr4vGr6iuzc82sSysOMCXFmZzPPv%2BBXJBb%2BsP%2FfzAhy%2BngazHTlEpwmoUM62yTRfW2hxEQrVaZExP3oA8iCauWOt7f2WwE3tpKYVNy3VAZh1bQ1N02lMA1DeWwRR4mlNCe9qR7HCD4RRrRCvpIPHCD8dNZLkYV3ozVd3js9x0DU1GjuNXLRxIAzSKSLQ0Ba6FaSDFCRxnA6j1Bt%2FP3trmA5BOnIX7g5DUlKRVV48UjKf8Q%2B7%2FAENiYOqAAIAAA%3D%3D')\n",
    "    driver.find_elements(By.XPATH, \"//*[contains(text(), 'Login/Register')]\")[1].click()\n",
    "    driver.find_element(By.ID, 'email').click()\n",
    "    driver.find_element(By.ID, 'email').send_keys('ooharrigan@gmail.com')\n",
    "    driver.find_element(By.ID, 'password').click()\n",
    "    driver.find_element(By.ID, 'password').send_keys('Valelaine24')\n",
    "    driver.find_element(By.XPATH,\"//Button[@data-automation-id='sign-in-button']\").click()\n",
    "    driver.get('https://www.dice.com/jobs?q=data%20analyst&countryCode=US&radius=30&radiusUnit=mi&page=1&pageSize=20&filters.postedDate=ONE&filters.employmentType=FULLTIME&filters.easyApply=true&language=en&eid=S2Q_,gKQ_')\n",
    "    \n",
    "    "
   ]
  },
  {
   "cell_type": "code",
   "execution_count": 30,
   "id": "df0fc95f",
   "metadata": {},
   "outputs": [],
   "source": [
    "dice_login()"
   ]
  },
  {
   "cell_type": "code",
   "execution_count": 31,
   "id": "d640175b",
   "metadata": {},
   "outputs": [],
   "source": [
    "def dice_apply():\n",
    "    apply_button = driver.find_element(By.TAG_NAME, 'apply-button-wc')\n",
    "    if 'Easy Apply' in apply_button.text:\n",
    "        apply_button.click()\n",
    "        time.sleep(1.8)\n",
    "        for i in np.arange(0,4):\n",
    "            try:\n",
    "                driver.find_element(By.XPATH, \"//span[contains(text(), 'Next')]\").click()\n",
    "                if len(driver.find_elements(By.XPATH, \"//p[@class = 'error-text']\")) > 0:\n",
    "                    driver.find_element(By.XPATH, \"//a[@class = 'back-to-djv-link']\").click()\n",
    "                    driver.switch_to.alert.accept()\n",
    "                    break\n",
    "            except:\n",
    "                driver.find_element(By.XPATH, \"//button[@class='btn btn-primary btn-next btn-split']\").click()\n",
    "                time.sleep(0.5)\n",
    "                break"
   ]
  },
  {
   "cell_type": "code",
   "execution_count": 32,
   "id": "b0ec495c",
   "metadata": {},
   "outputs": [],
   "source": [
    "def apply_page():\n",
    "    links = []\n",
    "    for elem in driver.find_elements(By.XPATH, \"//a[@data-cy='card-title-link']\"):\n",
    "        links.append(elem.get_attribute('href'))\n",
    "\n",
    "    for link in links:\n",
    "        driver.get(link)\n",
    "        time.sleep(1.8)\n",
    "        dice_apply()\n",
    "    driver.find_element(By.XPATH, \"//a[contains(text(), 'Search')]\").click()\n",
    "    time.sleep(2)"
   ]
  },
  {
   "cell_type": "code",
   "execution_count": 37,
   "id": "dffdd5b4",
   "metadata": {},
   "outputs": [
    {
     "name": "stdout",
     "output_type": "stream",
     "text": [
      "21\n",
      "0\n",
      "1\n",
      "2\n",
      "3\n"
     ]
    },
    {
     "ename": "ElementNotInteractableException",
     "evalue": "Message: element not interactable\n  (Session info: chrome=111.0.5563.148)\nStacktrace:\nBacktrace:\n\t(No symbol) [0x00A2DCE3]\n\t(No symbol) [0x009C39D1]\n\t(No symbol) [0x008D4C70]\n\t(No symbol) [0x009010D6]\n\t(No symbol) [0x008F8D05]\n\t(No symbol) [0x0091AECC]\n\t(No symbol) [0x008F8726]\n\t(No symbol) [0x0091B224]\n\t(No symbol) [0x0092D57C]\n\t(No symbol) [0x0091ACC6]\n\t(No symbol) [0x008F6F68]\n\t(No symbol) [0x008F80CD]\n\tGetHandleVerifier [0x00CA3832+2506274]\n\tGetHandleVerifier [0x00CD9794+2727300]\n\tGetHandleVerifier [0x00CDE36C+2746716]\n\tGetHandleVerifier [0x00AD6690+617600]\n\t(No symbol) [0x009CC712]\n\t(No symbol) [0x009D1FF8]\n\t(No symbol) [0x009D20DB]\n\t(No symbol) [0x009DC63B]\n\tBaseThreadInitThunk [0x768F7D69+25]\n\tRtlInitializeExceptionChain [0x77BDB74B+107]\n\tRtlClearBits [0x77BDB6CF+191]\n",
     "output_type": "error",
     "traceback": [
      "\u001b[1;31m---------------------------------------------------------------------------\u001b[0m",
      "\u001b[1;31mElementNotInteractableException\u001b[0m           Traceback (most recent call last)",
      "Cell \u001b[1;32mIn [37], line 5\u001b[0m\n\u001b[0;32m      3\u001b[0m \u001b[38;5;28;01mfor\u001b[39;00m i \u001b[38;5;129;01min\u001b[39;00m np\u001b[38;5;241m.\u001b[39marange(\u001b[38;5;241m0\u001b[39m,total_pages \u001b[38;5;241m+\u001b[39m \u001b[38;5;241m1\u001b[39m):\n\u001b[0;32m      4\u001b[0m     \u001b[38;5;28mprint\u001b[39m(i)\n\u001b[1;32m----> 5\u001b[0m     \u001b[43mapply_page\u001b[49m\u001b[43m(\u001b[49m\u001b[43m)\u001b[49m\n\u001b[0;32m      6\u001b[0m     driver\u001b[38;5;241m.\u001b[39mget(\u001b[38;5;124m'\u001b[39m\u001b[38;5;124mhttps://www.dice.com/jobs?q=data\u001b[39m\u001b[38;5;132;01m%20a\u001b[39;00m\u001b[38;5;124mnalyst&countryCode=US&radius=30&radiusUnit=mi&page=\u001b[39m\u001b[38;5;132;01m{}\u001b[39;00m\u001b[38;5;124m&pageSize=20&filters.postedDate=ONE&filters.employmentType=FULLTIME&filters.easyApply=true&language=en&eid=S2Q_,gKQ_\u001b[39m\u001b[38;5;124m'\u001b[39m\u001b[38;5;241m.\u001b[39mformat(i \u001b[38;5;241m+\u001b[39m \u001b[38;5;241m1\u001b[39m))\n\u001b[0;32m      7\u001b[0m     time\u001b[38;5;241m.\u001b[39msleep(\u001b[38;5;241m2\u001b[39m)\n",
      "Cell \u001b[1;32mIn [32], line 10\u001b[0m, in \u001b[0;36mapply_page\u001b[1;34m()\u001b[0m\n\u001b[0;32m      8\u001b[0m     time\u001b[38;5;241m.\u001b[39msleep(\u001b[38;5;241m1.8\u001b[39m)\n\u001b[0;32m      9\u001b[0m     dice_apply()\n\u001b[1;32m---> 10\u001b[0m \u001b[43mdriver\u001b[49m\u001b[38;5;241;43m.\u001b[39;49m\u001b[43mfind_element\u001b[49m\u001b[43m(\u001b[49m\u001b[43mBy\u001b[49m\u001b[38;5;241;43m.\u001b[39;49m\u001b[43mXPATH\u001b[49m\u001b[43m,\u001b[49m\u001b[43m \u001b[49m\u001b[38;5;124;43m\"\u001b[39;49m\u001b[38;5;124;43m//a[contains(text(), \u001b[39;49m\u001b[38;5;124;43m'\u001b[39;49m\u001b[38;5;124;43mSearch\u001b[39;49m\u001b[38;5;124;43m'\u001b[39;49m\u001b[38;5;124;43m)]\u001b[39;49m\u001b[38;5;124;43m\"\u001b[39;49m\u001b[43m)\u001b[49m\u001b[38;5;241;43m.\u001b[39;49m\u001b[43mclick\u001b[49m\u001b[43m(\u001b[49m\u001b[43m)\u001b[49m\n\u001b[0;32m     11\u001b[0m time\u001b[38;5;241m.\u001b[39msleep(\u001b[38;5;241m2\u001b[39m)\n",
      "File \u001b[1;32m~\\anaconda3\\lib\\site-packages\\selenium\\webdriver\\remote\\webelement.py:93\u001b[0m, in \u001b[0;36mWebElement.click\u001b[1;34m(self)\u001b[0m\n\u001b[0;32m     91\u001b[0m \u001b[38;5;28;01mdef\u001b[39;00m \u001b[38;5;21mclick\u001b[39m(\u001b[38;5;28mself\u001b[39m) \u001b[38;5;241m-\u001b[39m\u001b[38;5;241m>\u001b[39m \u001b[38;5;28;01mNone\u001b[39;00m:\n\u001b[0;32m     92\u001b[0m     \u001b[38;5;124;03m\"\"\"Clicks the element.\"\"\"\u001b[39;00m\n\u001b[1;32m---> 93\u001b[0m     \u001b[38;5;28;43mself\u001b[39;49m\u001b[38;5;241;43m.\u001b[39;49m\u001b[43m_execute\u001b[49m\u001b[43m(\u001b[49m\u001b[43mCommand\u001b[49m\u001b[38;5;241;43m.\u001b[39;49m\u001b[43mCLICK_ELEMENT\u001b[49m\u001b[43m)\u001b[49m\n",
      "File \u001b[1;32m~\\anaconda3\\lib\\site-packages\\selenium\\webdriver\\remote\\webelement.py:410\u001b[0m, in \u001b[0;36mWebElement._execute\u001b[1;34m(self, command, params)\u001b[0m\n\u001b[0;32m    408\u001b[0m     params \u001b[38;5;241m=\u001b[39m {}\n\u001b[0;32m    409\u001b[0m params[\u001b[38;5;124m\"\u001b[39m\u001b[38;5;124mid\u001b[39m\u001b[38;5;124m\"\u001b[39m] \u001b[38;5;241m=\u001b[39m \u001b[38;5;28mself\u001b[39m\u001b[38;5;241m.\u001b[39m_id\n\u001b[1;32m--> 410\u001b[0m \u001b[38;5;28;01mreturn\u001b[39;00m \u001b[38;5;28;43mself\u001b[39;49m\u001b[38;5;241;43m.\u001b[39;49m\u001b[43m_parent\u001b[49m\u001b[38;5;241;43m.\u001b[39;49m\u001b[43mexecute\u001b[49m\u001b[43m(\u001b[49m\u001b[43mcommand\u001b[49m\u001b[43m,\u001b[49m\u001b[43m \u001b[49m\u001b[43mparams\u001b[49m\u001b[43m)\u001b[49m\n",
      "File \u001b[1;32m~\\anaconda3\\lib\\site-packages\\selenium\\webdriver\\remote\\webdriver.py:444\u001b[0m, in \u001b[0;36mWebDriver.execute\u001b[1;34m(self, driver_command, params)\u001b[0m\n\u001b[0;32m    442\u001b[0m response \u001b[38;5;241m=\u001b[39m \u001b[38;5;28mself\u001b[39m\u001b[38;5;241m.\u001b[39mcommand_executor\u001b[38;5;241m.\u001b[39mexecute(driver_command, params)\n\u001b[0;32m    443\u001b[0m \u001b[38;5;28;01mif\u001b[39;00m response:\n\u001b[1;32m--> 444\u001b[0m     \u001b[38;5;28;43mself\u001b[39;49m\u001b[38;5;241;43m.\u001b[39;49m\u001b[43merror_handler\u001b[49m\u001b[38;5;241;43m.\u001b[39;49m\u001b[43mcheck_response\u001b[49m\u001b[43m(\u001b[49m\u001b[43mresponse\u001b[49m\u001b[43m)\u001b[49m\n\u001b[0;32m    445\u001b[0m     response[\u001b[38;5;124m\"\u001b[39m\u001b[38;5;124mvalue\u001b[39m\u001b[38;5;124m\"\u001b[39m] \u001b[38;5;241m=\u001b[39m \u001b[38;5;28mself\u001b[39m\u001b[38;5;241m.\u001b[39m_unwrap_value(response\u001b[38;5;241m.\u001b[39mget(\u001b[38;5;124m\"\u001b[39m\u001b[38;5;124mvalue\u001b[39m\u001b[38;5;124m\"\u001b[39m, \u001b[38;5;28;01mNone\u001b[39;00m))\n\u001b[0;32m    446\u001b[0m     \u001b[38;5;28;01mreturn\u001b[39;00m response\n",
      "File \u001b[1;32m~\\anaconda3\\lib\\site-packages\\selenium\\webdriver\\remote\\errorhandler.py:249\u001b[0m, in \u001b[0;36mErrorHandler.check_response\u001b[1;34m(self, response)\u001b[0m\n\u001b[0;32m    247\u001b[0m         alert_text \u001b[38;5;241m=\u001b[39m value[\u001b[38;5;124m\"\u001b[39m\u001b[38;5;124malert\u001b[39m\u001b[38;5;124m\"\u001b[39m]\u001b[38;5;241m.\u001b[39mget(\u001b[38;5;124m\"\u001b[39m\u001b[38;5;124mtext\u001b[39m\u001b[38;5;124m\"\u001b[39m)\n\u001b[0;32m    248\u001b[0m     \u001b[38;5;28;01mraise\u001b[39;00m exception_class(message, screen, stacktrace, alert_text)  \u001b[38;5;66;03m# type: ignore[call-arg]  # mypy is not smart enough here\u001b[39;00m\n\u001b[1;32m--> 249\u001b[0m \u001b[38;5;28;01mraise\u001b[39;00m exception_class(message, screen, stacktrace)\n",
      "\u001b[1;31mElementNotInteractableException\u001b[0m: Message: element not interactable\n  (Session info: chrome=111.0.5563.148)\nStacktrace:\nBacktrace:\n\t(No symbol) [0x00A2DCE3]\n\t(No symbol) [0x009C39D1]\n\t(No symbol) [0x008D4C70]\n\t(No symbol) [0x009010D6]\n\t(No symbol) [0x008F8D05]\n\t(No symbol) [0x0091AECC]\n\t(No symbol) [0x008F8726]\n\t(No symbol) [0x0091B224]\n\t(No symbol) [0x0092D57C]\n\t(No symbol) [0x0091ACC6]\n\t(No symbol) [0x008F6F68]\n\t(No symbol) [0x008F80CD]\n\tGetHandleVerifier [0x00CA3832+2506274]\n\tGetHandleVerifier [0x00CD9794+2727300]\n\tGetHandleVerifier [0x00CDE36C+2746716]\n\tGetHandleVerifier [0x00AD6690+617600]\n\t(No symbol) [0x009CC712]\n\t(No symbol) [0x009D1FF8]\n\t(No symbol) [0x009D20DB]\n\t(No symbol) [0x009DC63B]\n\tBaseThreadInitThunk [0x768F7D69+25]\n\tRtlInitializeExceptionChain [0x77BDB74B+107]\n\tRtlClearBits [0x77BDB6CF+191]\n"
     ]
    }
   ],
   "source": [
    "total_pages = math.ceil(int(driver.find_element(By.ID, 'totalJobCount').text) / 20)\n",
    "print(total_pages)\n",
    "for i in np.arange(0,total_pages + 1):\n",
    "    print(i)\n",
    "    apply_page()\n",
    "    driver.get('https://www.dice.com/jobs?q=data%20analyst&countryCode=US&radius=30&radiusUnit=mi&page={}&pageSize=20&filters.postedDate=ONE&filters.employmentType=FULLTIME&filters.easyApply=true&language=en&eid=S2Q_,gKQ_'.format(i + 1))\n",
    "    time.sleep(2)"
   ]
  },
  {
   "cell_type": "code",
   "execution_count": null,
   "id": "5bb5a48a",
   "metadata": {},
   "outputs": [],
   "source": []
  }
 ],
 "metadata": {
  "kernelspec": {
   "display_name": "Python 3 (ipykernel)",
   "language": "python",
   "name": "python3"
  },
  "language_info": {
   "codemirror_mode": {
    "name": "ipython",
    "version": 3
   },
   "file_extension": ".py",
   "mimetype": "text/x-python",
   "name": "python",
   "nbconvert_exporter": "python",
   "pygments_lexer": "ipython3",
   "version": "3.9.12"
  }
 },
 "nbformat": 4,
 "nbformat_minor": 5
}
