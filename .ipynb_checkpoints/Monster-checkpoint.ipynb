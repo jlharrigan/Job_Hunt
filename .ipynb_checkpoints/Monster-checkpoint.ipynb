{
 "cells": [
  {
   "cell_type": "code",
   "execution_count": 123,
   "id": "03948e94",
   "metadata": {},
   "outputs": [],
   "source": [
    "from selenium.webdriver.support.ui import WebDriverWait\n",
    "from selenium.webdriver.support import expected_conditions as EC\n",
    "from selenium.webdriver.common.by import By\n",
    "from selenium import webdriver\n",
    "from selenium.webdriver.common.action_chains import ActionChains\n",
    "import pandas as pd\n",
    "import numpy as np\n",
    "import os\n",
    "import matplotlib.pyplot as plt\n",
    "import datetime\n",
    "import time\n",
    "import pickle\n",
    "from copy import deepcopy\n",
    "import time\n",
    "import math\n",
    "from selenium.webdriver.common.action_chains import ActionChains"
   ]
  },
  {
   "cell_type": "code",
   "execution_count": 141,
   "id": "fc39d6b2",
   "metadata": {},
   "outputs": [],
   "source": [
    "driver = webdriver.Chrome()"
   ]
  },
  {
   "cell_type": "code",
   "execution_count": 142,
   "id": "600ec0c4",
   "metadata": {},
   "outputs": [],
   "source": [
    "def monster_login():\n",
    "    driver.get('https://www.monster.com/')\n",
    "    driver.find_element(By.XPATH, \"//a[@class='sc-iAvgwm eaxyrU sc-bWijRQ exIbnL ds-button']\").click()\n",
    "    time.sleep(2)\n",
    "    driver.find_element(By.XPATH, \"//input[@id = 'email']\").click()\n",
    "    driver.find_element(By.XPATH, \"//input[@id = 'email']\").send_keys('jack.l.harrigan@gmail.com')\n",
    "    driver.find_element(By.XPATH, \"//input[@id = 'password']\").click()\n",
    "    driver.find_element(By.XPATH, \"//input[@id = 'password']\").send_keys('Valelaine24')\n",
    "    driver.find_element(By.XPATH, \"//button[@aria-label = 'Log In - By continuing you agree to the additional terms below.']\").click()\n",
    "    time.sleep(1)\n",
    "    driver.get('https://www.monster.com/jobs/search?q=Data-Analyst&where=united+states&page=18&rd=100&so=m.s.sh')"
   ]
  },
  {
   "cell_type": "code",
   "execution_count": 143,
   "id": "1755b5c8",
   "metadata": {},
   "outputs": [],
   "source": [
    "monster_login()"
   ]
  },
  {
   "cell_type": "code",
   "execution_count": 144,
   "id": "7a6e6927",
   "metadata": {},
   "outputs": [],
   "source": [
    "no_more = False\n",
    "\n",
    "fBody = driver.find_element(By.XPATH, \"//div[@id = 'card-scroll-container']\")\n",
    "driver.execute_script('arguments[0].scrollTop = arguments[0].scrollTop + arguments[0].offsetHeight;',fBody)\n",
    "driver.execute_script('arguments[0].scrollTop = arguments[0].scrollTop - arguments[0].offsetHeight;',fBody)\n",
    "\n",
    "while not no_more:\n",
    "    driver.execute_script('arguments[0].scrollTop = arguments[0].scrollTop + arguments[0].offsetHeight;',fBody)\n",
    "    time.sleep(1)\n",
    "    try:\n",
    "        driver.find_element(By.XPATH, \"//span[contains(text(), 'No More Results')]\")\n",
    "        no_more = True\n",
    "    except:\n",
    "        continue"
   ]
  },
  {
   "cell_type": "code",
   "execution_count": 145,
   "id": "143e732d",
   "metadata": {
    "scrolled": true
   },
   "outputs": [],
   "source": [
    "links = driver.find_elements(By.XPATH, \"//button[@aria-label = 'Apply Link']\")\n",
    "for link in links:\n",
    "    if link.text == 'Quick Apply':\n",
    "        link.click()\n",
    "        time.sleep(3)\n",
    "        handles = driver.window_handles\n",
    "        driver.switch_to.window(handles[1])\n",
    "        driver.find_element(By.XPATH, \"//button[@aria-label = 'Return Back to Search']\").click()\n",
    "        driver.switch_to.window(handles[0])\n",
    "        time.sleep(1)"
   ]
  },
  {
   "cell_type": "code",
   "execution_count": null,
   "id": "69dad2d7",
   "metadata": {},
   "outputs": [],
   "source": []
  },
  {
   "cell_type": "code",
   "execution_count": null,
   "id": "3eab04c5",
   "metadata": {},
   "outputs": [],
   "source": []
  },
  {
   "cell_type": "code",
   "execution_count": null,
   "id": "eff93184",
   "metadata": {},
   "outputs": [],
   "source": []
  },
  {
   "cell_type": "code",
   "execution_count": null,
   "id": "abb93204",
   "metadata": {},
   "outputs": [],
   "source": []
  },
  {
   "cell_type": "code",
   "execution_count": null,
   "id": "e0138b5c",
   "metadata": {},
   "outputs": [],
   "source": []
  },
  {
   "cell_type": "code",
   "execution_count": null,
   "id": "219fdfec",
   "metadata": {},
   "outputs": [],
   "source": []
  },
  {
   "cell_type": "code",
   "execution_count": null,
   "id": "a7525c1e",
   "metadata": {},
   "outputs": [],
   "source": []
  },
  {
   "cell_type": "code",
   "execution_count": null,
   "id": "6c4fedf3",
   "metadata": {},
   "outputs": [],
   "source": []
  },
  {
   "cell_type": "code",
   "execution_count": null,
   "id": "e5784f76",
   "metadata": {},
   "outputs": [],
   "source": []
  },
  {
   "cell_type": "code",
   "execution_count": null,
   "id": "cb648946",
   "metadata": {},
   "outputs": [],
   "source": []
  },
  {
   "cell_type": "code",
   "execution_count": null,
   "id": "4759fed6",
   "metadata": {},
   "outputs": [],
   "source": []
  },
  {
   "cell_type": "code",
   "execution_count": null,
   "id": "6baabf5f",
   "metadata": {},
   "outputs": [],
   "source": []
  },
  {
   "cell_type": "code",
   "execution_count": null,
   "id": "7ba46269",
   "metadata": {},
   "outputs": [],
   "source": []
  },
  {
   "cell_type": "code",
   "execution_count": null,
   "id": "5bb5a48a",
   "metadata": {},
   "outputs": [],
   "source": []
  }
 ],
 "metadata": {
  "kernelspec": {
   "display_name": "Python 3 (ipykernel)",
   "language": "python",
   "name": "python3"
  },
  "language_info": {
   "codemirror_mode": {
    "name": "ipython",
    "version": 3
   },
   "file_extension": ".py",
   "mimetype": "text/x-python",
   "name": "python",
   "nbconvert_exporter": "python",
   "pygments_lexer": "ipython3",
   "version": "3.9.12"
  }
 },
 "nbformat": 4,
 "nbformat_minor": 5
}
